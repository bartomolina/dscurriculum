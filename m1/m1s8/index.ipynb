{
 "cells": [
  {
   "cell_type": "code",
   "execution_count": 22,
   "metadata": {},
   "outputs": [],
   "source": [
    "import numpy as np"
   ]
  },
  {
   "cell_type": "markdown",
   "metadata": {
    "heading_collapsed": true
   },
   "source": [
    "# NumPy"
   ]
  },
  {
   "cell_type": "code",
   "execution_count": 9,
   "metadata": {
    "hidden": true
   },
   "outputs": [],
   "source": [
    "numpy_arr = np.array([1, 2, 3, 4])\n",
    "\n",
    "# broadcasting\n",
    "numpy_arr + 3\n",
    "numpy_arr.shape\n",
    "\n",
    "# 3 dimensional; 3 4x5 matrices\n",
    "np.zeros([3,4,5])\n",
    "# two dimensional; 2x2 matrix\n",
    "np.ones([3,4])\n",
    "# create a 1d array with 5 elements, filling them with the values 0 to 4\n",
    "np.full(5, range(5))\n",
    "np.full(5, np.pi)\n",
    "\n",
    "# subsetting\n",
    "x = np.array([[1,2,3], [4,5,6], [7,8,9], [10,11,12]])\n",
    "# rows 2 through 4, columns 1 through 3\n",
    "x[2:4,1:3]\n",
    "\n",
    "pass"
   ]
  },
  {
   "cell_type": "markdown",
   "metadata": {
    "heading_collapsed": true
   },
   "source": [
    "# Probability and Combinatronics - Sets"
   ]
  },
  {
   "cell_type": "markdown",
   "metadata": {
    "hidden": true
   },
   "source": [
    "https://docs.python.org/2/library/sets.html\n",
    "\n",
    "**Belongs**  \n",
    "$x \\in S$  \n",
    "$x\\notin S$\n",
    "\n",
    "**Subset**  \n",
    "$S \\subset T$  \n",
    "Proper subset  \n",
    "$T \\subsetneq S$  \n",
    "Equal  \n",
    "$T \\subseteq S$\n",
    "\n",
    "**Universal set**: all possible outcomes in a certain context or universe  \n",
    "$\\Omega = \\{1,2,3,4,5,6\\}$ (all the possible outcomes when rolling a dice.)\n",
    "\n",
    "**Set operations** - https://en.wikipedia.org/wiki/Venn_diagram\n",
    "- Union: $S \\cup T$\n",
    "- Intersection: $S \\cap T$\n",
    "- Relative complement / difference: $T\\backslash S$ or $T-S$\n",
    "- Absolute complement: $S'$ or $S^c$\n",
    "\n",
    "**Inclusion exclusion principle**  \n",
    "$\\mid S \\cup T \\mid = \\mid S \\mid + \\mid T \\mid - \\mid S \\cap T \\mid $\n",
    "\n",
    "**Empty sets**  \n",
    "$\\emptyset$ or $\\{\\}$"
   ]
  },
  {
   "cell_type": "code",
   "execution_count": 17,
   "metadata": {
    "hidden": true
   },
   "outputs": [],
   "source": [
    "A = set([2,4,6,8,10])\n",
    "B = set([3,8,11,12])\n",
    "C = set([2,3,6,8,9,11])\n",
    "U = set([1,2,3,4,5,6,7,8,9,10,11,12])\n",
    "\n",
    "# intersection\n",
    "A & B\n",
    "A.intersection(B)\n",
    "\n",
    "# union\n",
    "A | B\n",
    "A.union(B)\n",
    "\n",
    "# absolute complement\n",
    "U - A\n",
    "U.difference(A)\n",
    "\n",
    "# add / remove\n",
    "A.remove(2) # A.discard(2)\n",
    "A.update(B)\n",
    "A.clear\n",
    "\n",
    "pass"
   ]
  },
  {
   "cell_type": "markdown",
   "metadata": {
    "heading_collapsed": true
   },
   "source": [
    "# Probability"
   ]
  },
  {
   "cell_type": "markdown",
   "metadata": {
    "hidden": true
   },
   "source": [
    "- Sample space\n",
    "- Event space\n",
    "\n",
    "**Law of relative frequency**  \n",
    "$P(E) = \\lim_{n\\rightarrow\\infty} \\dfrac{S{(n)}}{n}$\n",
    "\n",
    "**Axioms**\n",
    "1. Positivity\n",
    "2. Probability of a certain event (If the event of interest is the sample space)\n",
    "3. Additivity  \n",
    "If $A \\cap B = \\emptyset $, then $P(A\\cup B) = P(A) + P(B)$\n",
    "\n",
    "**Addition law of probability**  \n",
    "$P(A\\cup B) = P(A) + P(B) - P(A \\cap B) $ "
   ]
  },
  {
   "cell_type": "code",
   "execution_count": 18,
   "metadata": {
    "hidden": true
   },
   "outputs": [],
   "source": [
    "sample_dice = np.array([(1, 1), (1, 2), (1, 3), (1, 4), (1, 5), (1, 6),\n",
    "              (2, 1), (2, 2), (2, 3), (2, 4), (2, 5), (2, 6),\n",
    "              (3, 1), (3, 2), (3, 3), (3, 4), (3, 5), (3, 6),\n",
    "              (4, 1), (4, 2), (4, 3), (4, 4), (4, 5), (4, 6),\n",
    "              (5, 1), (5, 2), (5, 3), (5, 4), (5, 5), (5, 6),\n",
    "              (6, 1), (6, 2), (6, 3), (6, 4), (6, 5), (6, 6)])\n",
    "\n",
    "# 5 at least once\n",
    "set_5 = sample_dice == (5)"
   ]
  },
  {
   "cell_type": "markdown",
   "metadata": {
    "heading_collapsed": true
   },
   "source": [
    "# Permutations"
   ]
  },
  {
   "cell_type": "markdown",
   "metadata": {
    "hidden": true
   },
   "source": [
    "$ \\text{# Jackson permutations} = 3*2*1 = 3 ! = 6$\n",
    "## Permutations of a subset\n",
    "$ \\text{# Jackson k-permutations} = 8*7*6 = 336$  \n",
    "$n*(n-1)*...*(n-k+1)$ or $P_{k}^{n}= \\dfrac{n!}{(n-k)!}$\n",
    "## Permutations with replacement\n",
    "$n^j$\n",
    "## Permutations with repetitions"
   ]
  },
  {
   "cell_type": "markdown",
   "metadata": {
    "heading_collapsed": true
   },
   "source": [
    "# Combinations"
   ]
  },
  {
   "cell_type": "markdown",
   "metadata": {
    "hidden": true
   },
   "source": [
    "Permutations come in handy when we want to know how many ways we can order sets. Now what if order is not important? That's where *combinations* come in.\n",
    "$$\\displaystyle\\binom{n}{k} = \\dfrac{P_{k}^{n}}{k!}=\\dfrac{ \\dfrac{n!}{(n-k)!}}{k!} = \\dfrac{n!}{(n-k)!k!}$$"
   ]
  },
  {
   "cell_type": "markdown",
   "metadata": {},
   "source": [
    "# Bernoulli and binomial distribution"
   ]
  },
  {
   "cell_type": "markdown",
   "metadata": {},
   "source": [
    "$Y = Bernoulli(p)$ and $p=P(Y=1)=0.8$.  \n",
    "So we say that the Bernoulli distribution has one parameter $p$.\n",
    "\n",
    "What if we repeat this process multiple times and are interested in the probability to obtain a certain numbers of 1s/successes/tails? This process is described by the **binomial distribution**."
   ]
  },
  {
   "cell_type": "markdown",
   "metadata": {},
   "source": [
    "## Binomial distribution\n"
   ]
  },
  {
   "cell_type": "markdown",
   "metadata": {},
   "source": [
    "$$ P(Y=k)= \\binom{n}{k} p^k(1-p)^{(n-k)}$$"
   ]
  },
  {
   "cell_type": "code",
   "execution_count": 21,
   "metadata": {},
   "outputs": [
    {
     "data": {
      "text/plain": [
       "83"
      ]
     },
     "execution_count": 21,
     "metadata": {},
     "output_type": "execute_result"
    }
   ],
   "source": [
    "np.random.binomial(100, 0.8)"
   ]
  }
 ],
 "metadata": {
  "kernelspec": {
   "display_name": "learn-env",
   "language": "python",
   "name": "learn-env"
  },
  "language_info": {
   "codemirror_mode": {
    "name": "ipython",
    "version": 3
   },
   "file_extension": ".py",
   "mimetype": "text/x-python",
   "name": "python",
   "nbconvert_exporter": "python",
   "pygments_lexer": "ipython3",
   "version": "3.7.3"
  },
  "varInspector": {
   "cols": {
    "lenName": 16,
    "lenType": 16,
    "lenVar": 40
   },
   "kernels_config": {
    "python": {
     "delete_cmd_postfix": "",
     "delete_cmd_prefix": "del ",
     "library": "var_list.py",
     "varRefreshCmd": "print(var_dic_list())"
    },
    "r": {
     "delete_cmd_postfix": ") ",
     "delete_cmd_prefix": "rm(",
     "library": "var_list.r",
     "varRefreshCmd": "cat(var_dic_list()) "
    }
   },
   "types_to_exclude": [
    "module",
    "function",
    "builtin_function_or_method",
    "instance",
    "_Feature"
   ],
   "window_display": false
  }
 },
 "nbformat": 4,
 "nbformat_minor": 2
}
