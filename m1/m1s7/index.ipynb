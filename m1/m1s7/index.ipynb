{
 "cells": [
  {
   "cell_type": "markdown",
   "metadata": {},
   "source": [
    "# Object initialization"
   ]
  },
  {
   "cell_type": "code",
   "execution_count": 1,
   "metadata": {},
   "outputs": [
    {
     "name": "stdout",
     "output_type": "stream",
     "text": [
      "Bob\n",
      "Carpenter\n"
     ]
    }
   ],
   "source": [
    "class Person:\n",
    "    def __init__(self, name=None, job=None):\n",
    "        self.name = name\n",
    "        self.job = job\n",
    "        \n",
    "bob = Person('Bob', 'Carpenter')\n",
    "print(bob.name)\n",
    "print(bob.job)"
   ]
  },
  {
   "cell_type": "markdown",
   "metadata": {},
   "source": [
    "# Class variables / methods, Inheritance"
   ]
  },
  {
   "cell_type": "code",
   "execution_count": 2,
   "metadata": {},
   "outputs": [
    {
     "name": "stdout",
     "output_type": "stream",
     "text": [
      "1. --- canine --- This is the dog **class** directly accessing its class variable\n",
      "2. --- I'm a dog INSTANCE --- This is an **instance object** of the dog class accessing its own instance variable\n",
      "3. --- canine --- This is the dog class invoking the species *class method* to access its class variable\n",
      "4. --- canine --- This is an **instance object** of the dog class invoking the *class method*\n",
      "I'm a dog INSTANCE\n"
     ]
    }
   ],
   "source": [
    "class Dog:\n",
    "    \n",
    "    _species = \"canine\"\n",
    "    \n",
    "    def __init__(self):\n",
    "        self._species = \"I'm a dog INSTANCE\"\n",
    "    \n",
    "    @classmethod\n",
    "    def species(cls):\n",
    "        return cls._species\n",
    "    \n",
    "class WildDog(Dog):\n",
    "    \n",
    "    def __init__(self):\n",
    "        super().__init__()\n",
    "        self._type = \"I'm a wild dog\"\n",
    "    \n",
    "new_dog = Dog()\n",
    "new_wilddog = WildDog()\n",
    "\n",
    "print(\"1. ---\", Dog._species, \"--- This is the dog **class** directly accessing its class variable\")\n",
    "print(\"2. ---\", new_dog._species, \"--- This is an **instance object** of the dog class accessing its own instance variable\")\n",
    "print(\"3. ---\", Dog.species(), \"--- This is the dog class invoking the species *class method* to access its class variable\")\n",
    "print(\"4. ---\", new_dog.species(), \"--- This is an **instance object** of the dog class invoking the *class method*\")\n",
    "print(new_wilddog._species)"
   ]
  }
 ],
 "metadata": {
  "kernelspec": {
   "display_name": "learn-env",
   "language": "python",
   "name": "learn-env"
  },
  "language_info": {
   "codemirror_mode": {
    "name": "ipython",
    "version": 3
   },
   "file_extension": ".py",
   "mimetype": "text/x-python",
   "name": "python",
   "nbconvert_exporter": "python",
   "pygments_lexer": "ipython3",
   "version": "3.7.3"
  }
 },
 "nbformat": 4,
 "nbformat_minor": 2
}
