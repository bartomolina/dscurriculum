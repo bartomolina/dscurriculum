{
 "cells": [
  {
   "cell_type": "markdown",
   "metadata": {},
   "source": [
    "# Probability"
   ]
  },
  {
   "cell_type": "markdown",
   "metadata": {},
   "source": [
    "- Universal space $\\Omega$ (**sample space** when conducting experiments): $S= \\{1,2,3,4,5,6\\}$\n",
    "- Event space (i.e. throwing a number higher than 4): $E\\subseteq S$ $E= \\{1,3,5\\}$"
   ]
  },
  {
   "cell_type": "markdown",
   "metadata": {},
   "source": [
    "## The law of relative frequency"
   ]
  },
  {
   "cell_type": "markdown",
   "metadata": {},
   "source": [
    "$$P(E) = \\lim_{n\\rightarrow\\infty} \\dfrac{S{(n)}}{n}$$"
   ]
  },
  {
   "cell_type": "markdown",
   "metadata": {},
   "source": [
    "## Probability axioms"
   ]
  },
  {
   "cell_type": "markdown",
   "metadata": {},
   "source": [
    "1. Positivity: $0 \\leq P(E) \\leq 1$\n",
    "2. Probability of a certain event: $P(S) = 1$\n",
    "3. Additivity: If $A \\cap B = \\emptyset $, then $P(A\\cup B) = P(A) + P(B)$ "
   ]
  },
  {
   "cell_type": "markdown",
   "metadata": {},
   "source": [
    "## Addition law of probability (sum rule)"
   ]
  },
  {
   "cell_type": "markdown",
   "metadata": {},
   "source": [
    "$P(A\\cup B) = P(A) + P(B) - P(A \\cap B) $"
   ]
  },
  {
   "cell_type": "markdown",
   "metadata": {},
   "source": [
    "# Permutations"
   ]
  },
  {
   "cell_type": "markdown",
   "metadata": {},
   "source": [
    "Permutations on three songs:  \n",
    "$ \\text{# Songs} = 3*2*1 = 3 ! = 6$\n",
    "\n",
    "- Permutations of a subset: three out of 8 songs ($k$-permutation of $n$):  \n",
    "$ \\text{# 3 songs out of 8} = 8*7*6 = 336$  \n",
    "$n*(n-1)*...*(n-k+1)$ or in other words, $P_{k}^{n}= \\dfrac{n!}{(n-k)!}$\n",
    "\n",
    "- Permutations with replacement: three marbles in a bag ($n^j$ where $j$ is the number of \"draws\"):  \n",
    "$3 * 3 * 3$\n",
    "\n",
    "- Permutations with repetition: different words with letters ($\\dfrac{n!}{n_1!n_2!\\ldots n_k!}$):  \n",
    "TENNESSEE  \n",
    "(9 letters, 4 x E, 2 x N, 2 x S)  \n",
    "$\\dfrac{9!}{4!2!2!} = 3780$"
   ]
  }
 ],
 "metadata": {
  "kernelspec": {
   "display_name": "learn-env",
   "language": "python",
   "name": "learn-env"
  },
  "language_info": {
   "codemirror_mode": {
    "name": "ipython",
    "version": 3
   },
   "file_extension": ".py",
   "mimetype": "text/x-python",
   "name": "python",
   "nbconvert_exporter": "python",
   "pygments_lexer": "ipython3",
   "version": "3.7.3"
  }
 },
 "nbformat": 4,
 "nbformat_minor": 2
}
