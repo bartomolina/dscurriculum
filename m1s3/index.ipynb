{
 "cells": [
  {
   "cell_type": "markdown",
   "metadata": {},
   "source": [
    "# Python libraries\n",
    "- Scientific Computation\n",
    "  - NumPy\n",
    "  - SciPy: functions for linear algebra, optimization, integration and statistics (built on top of NumPy)\n",
    "  - Statsmodels\n",
    "  - Pandas: \"relational\" data. Series (one dimension) and Data Frames (two dimensional)\n",
    "- Data Visualization\n",
    "  - MatplotLib\n",
    "  - Seaborn: complimentary to Matplotlib. targets statistical data visualizations\n",
    "- Machine Learning\n",
    "  - Scikit-Learn\n",
    "- Deep Learning (Keras / TensorFlow)\n",
    "  - TensorFlow: data flow graph computations\n",
    "  - Keras: neural networks. Can use Theano or TensorFlow"
   ]
  },
  {
   "cell_type": "markdown",
   "metadata": {},
   "source": [
    "# Pandas"
   ]
  },
  {
   "cell_type": "code",
   "execution_count": 99,
   "metadata": {},
   "outputs": [
    {
     "data": {
      "text/html": [
       "<div>\n",
       "<style scoped>\n",
       "    .dataframe tbody tr th:only-of-type {\n",
       "        vertical-align: middle;\n",
       "    }\n",
       "\n",
       "    .dataframe tbody tr th {\n",
       "        vertical-align: top;\n",
       "    }\n",
       "\n",
       "    .dataframe thead th {\n",
       "        text-align: right;\n",
       "    }\n",
       "</style>\n",
       "<table border=\"1\" class=\"dataframe\">\n",
       "  <thead>\n",
       "    <tr style=\"text-align: right;\">\n",
       "      <th></th>\n",
       "      <th>GEO.id</th>\n",
       "      <th>GEO.id2</th>\n",
       "    </tr>\n",
       "  </thead>\n",
       "  <tbody>\n",
       "    <tr>\n",
       "      <th>0</th>\n",
       "      <td>Id</td>\n",
       "      <td>Id2</td>\n",
       "    </tr>\n",
       "    <tr>\n",
       "      <th>1</th>\n",
       "      <td>0500000US01001</td>\n",
       "      <td>01001</td>\n",
       "    </tr>\n",
       "  </tbody>\n",
       "</table>\n",
       "</div>"
      ],
      "text/plain": [
       "           GEO.id GEO.id2\n",
       "0              Id     Id2\n",
       "1  0500000US01001   01001"
      ]
     },
     "execution_count": 99,
     "metadata": {},
     "output_type": "execute_result"
    }
   ],
   "source": [
    "import pandas as pd\n",
    "\n",
    "df = pd.read_csv('Data/ACS_16_5YR_B24011_with_ann.csv', usecols=['GEO.id', 'GEO.id2'], encoding='latin-1')\n",
    "# df = df.drop(0)\n",
    "df.head(2)"
   ]
  },
  {
   "cell_type": "code",
   "execution_count": 103,
   "metadata": {},
   "outputs": [
    {
     "data": {
      "text/plain": [
       "['Biz_id_RESDU',\n",
       " 'Biz_id_4JNXU',\n",
       " 'Biz_id_YJ8lj',\n",
       " 'Biz_id_ujHia',\n",
       " 'Biz_id_na4Th']"
      ]
     },
     "execution_count": 103,
     "metadata": {},
     "output_type": "execute_result"
    }
   ],
   "source": [
    "# excel sheet names\n",
    "workbook = pd.ExcelFile('Data/Yelp_Selected_Businesses.xlsx')\n",
    "workbook.sheet_names"
   ]
  },
  {
   "cell_type": "code",
   "execution_count": 321,
   "metadata": {},
   "outputs": [],
   "source": [
    "# save results\n",
    "df.to_csv('NewSavedView.csv', index=False) #Notice how we have to pass index=False if we do not want it included in our output"
   ]
  },
  {
   "cell_type": "code",
   "execution_count": 335,
   "metadata": {},
   "outputs": [],
   "source": [
    "# supress scientific notation\n",
    "pd.set_option('display.float_format', lambda x: '%.3f' % x)\n",
    "\n",
    "# max rows / columns\n",
    "# pd.options.display.max_rows = 99999\n",
    "# pd.options.display.max_columns = 99999"
   ]
  },
  {
   "cell_type": "markdown",
   "metadata": {},
   "source": [
    "## Series and Data Frames"
   ]
  },
  {
   "cell_type": "code",
   "execution_count": 157,
   "metadata": {},
   "outputs": [
    {
     "name": "stdout",
     "output_type": "stream",
     "text": [
      "4848\n"
     ]
    }
   ],
   "source": [
    "import pandas as pd\n",
    "import matplotlib.pyplot as plt\n",
    "%matplotlib inline\n",
    "\n",
    "df = pd.read_csv('Data/turnstile_180901.txt')\n",
    "print(len(df))\n",
    "# df.info()"
   ]
  },
  {
   "cell_type": "code",
   "execution_count": 158,
   "metadata": {},
   "outputs": [],
   "source": [
    "def contains_n(text):\n",
    "    return 'N' in text\n",
    "\n",
    "df['On_N_Line'] = df.LINENAME.map(contains_n)"
   ]
  },
  {
   "cell_type": "code",
   "execution_count": 159,
   "metadata": {},
   "outputs": [
    {
     "name": "stdout",
     "output_type": "stream",
     "text": [
      "08/25/2018\n"
     ]
    },
    {
     "data": {
      "text/plain": [
       "0    Saturday\n",
       "1    Saturday\n",
       "2    Saturday\n",
       "3    Saturday\n",
       "4    Saturday\n",
       "Name: DATE, dtype: object"
      ]
     },
     "execution_count": 159,
     "metadata": {},
     "output_type": "execute_result"
    }
   ],
   "source": [
    "df.columns\n",
    "\n",
    "# change column data types\n",
    "df.ENTRIES = df.ENTRIES.astype(int)\n",
    "df.ENTRIES.dtype\n",
    "\n",
    "# dates\n",
    "# iloc slicing series / dataframes\n",
    "print(df.DATE.iloc[0])\n",
    "# pd.to_datetime(df.DATE, format='%m/%d/%Y').head()\n",
    "pd.to_datetime(df.DATE).head()\n",
    "# dt methods\n",
    "df.DATE = pd.to_datetime(df.DATE)\n",
    "df.DATE.dt.day_name().head()"
   ]
  },
  {
   "cell_type": "code",
   "execution_count": 171,
   "metadata": {},
   "outputs": [
    {
     "data": {
      "text/html": [
       "<div>\n",
       "<style scoped>\n",
       "    .dataframe tbody tr th:only-of-type {\n",
       "        vertical-align: middle;\n",
       "    }\n",
       "\n",
       "    .dataframe tbody tr th {\n",
       "        vertical-align: top;\n",
       "    }\n",
       "\n",
       "    .dataframe thead th {\n",
       "        text-align: right;\n",
       "    }\n",
       "</style>\n",
       "<table border=\"1\" class=\"dataframe\">\n",
       "  <thead>\n",
       "    <tr style=\"text-align: right;\">\n",
       "      <th></th>\n",
       "      <th>C/A</th>\n",
       "      <th>Unit</th>\n",
       "      <th>Scp</th>\n",
       "      <th>Station</th>\n",
       "      <th>Linename</th>\n",
       "      <th>Division</th>\n",
       "      <th>Date</th>\n",
       "      <th>Time</th>\n",
       "      <th>Desc</th>\n",
       "      <th>Entries</th>\n",
       "      <th>Exits</th>\n",
       "      <th>On_N_Line</th>\n",
       "      <th>Dayofweek</th>\n",
       "    </tr>\n",
       "  </thead>\n",
       "  <tbody>\n",
       "    <tr>\n",
       "      <th>0</th>\n",
       "      <td>A002</td>\n",
       "      <td>R051</td>\n",
       "      <td>02-00-00</td>\n",
       "      <td>59 ST</td>\n",
       "      <td>NQR456W</td>\n",
       "      <td>BMT</td>\n",
       "      <td>2018-08-25</td>\n",
       "      <td>00:00:00</td>\n",
       "      <td>REGULAR</td>\n",
       "      <td>6736067</td>\n",
       "      <td>2283184</td>\n",
       "      <td>True</td>\n",
       "      <td>5</td>\n",
       "    </tr>\n",
       "    <tr>\n",
       "      <th>1</th>\n",
       "      <td>A002</td>\n",
       "      <td>R051</td>\n",
       "      <td>02-00-00</td>\n",
       "      <td>59 ST</td>\n",
       "      <td>NQR456W</td>\n",
       "      <td>BMT</td>\n",
       "      <td>2018-08-25</td>\n",
       "      <td>04:00:00</td>\n",
       "      <td>REGULAR</td>\n",
       "      <td>6736087</td>\n",
       "      <td>2283188</td>\n",
       "      <td>True</td>\n",
       "      <td>5</td>\n",
       "    </tr>\n",
       "    <tr>\n",
       "      <th>2</th>\n",
       "      <td>A002</td>\n",
       "      <td>R051</td>\n",
       "      <td>02-00-00</td>\n",
       "      <td>59 ST</td>\n",
       "      <td>NQR456W</td>\n",
       "      <td>BMT</td>\n",
       "      <td>2018-08-25</td>\n",
       "      <td>08:00:00</td>\n",
       "      <td>REGULAR</td>\n",
       "      <td>6736105</td>\n",
       "      <td>2283229</td>\n",
       "      <td>True</td>\n",
       "      <td>5</td>\n",
       "    </tr>\n",
       "    <tr>\n",
       "      <th>3</th>\n",
       "      <td>A002</td>\n",
       "      <td>R051</td>\n",
       "      <td>02-00-00</td>\n",
       "      <td>59 ST</td>\n",
       "      <td>NQR456W</td>\n",
       "      <td>BMT</td>\n",
       "      <td>2018-08-25</td>\n",
       "      <td>12:00:00</td>\n",
       "      <td>REGULAR</td>\n",
       "      <td>6736180</td>\n",
       "      <td>2283314</td>\n",
       "      <td>True</td>\n",
       "      <td>5</td>\n",
       "    </tr>\n",
       "    <tr>\n",
       "      <th>4</th>\n",
       "      <td>A002</td>\n",
       "      <td>R051</td>\n",
       "      <td>02-00-00</td>\n",
       "      <td>59 ST</td>\n",
       "      <td>NQR456W</td>\n",
       "      <td>BMT</td>\n",
       "      <td>2018-08-25</td>\n",
       "      <td>16:00:00</td>\n",
       "      <td>REGULAR</td>\n",
       "      <td>6736349</td>\n",
       "      <td>2283384</td>\n",
       "      <td>True</td>\n",
       "      <td>5</td>\n",
       "    </tr>\n",
       "  </tbody>\n",
       "</table>\n",
       "</div>"
      ],
      "text/plain": [
       "    C/A  Unit       Scp Station Linename Division       Date      Time  \\\n",
       "0  A002  R051  02-00-00   59 ST  NQR456W      BMT 2018-08-25  00:00:00   \n",
       "1  A002  R051  02-00-00   59 ST  NQR456W      BMT 2018-08-25  04:00:00   \n",
       "2  A002  R051  02-00-00   59 ST  NQR456W      BMT 2018-08-25  08:00:00   \n",
       "3  A002  R051  02-00-00   59 ST  NQR456W      BMT 2018-08-25  12:00:00   \n",
       "4  A002  R051  02-00-00   59 ST  NQR456W      BMT 2018-08-25  16:00:00   \n",
       "\n",
       "      Desc  Entries    Exits  On_N_Line  Dayofweek  \n",
       "0  REGULAR  6736067  2283184       True          5  \n",
       "1  REGULAR  6736087  2283188       True          5  \n",
       "2  REGULAR  6736105  2283229       True          5  \n",
       "3  REGULAR  6736180  2283314       True          5  \n",
       "4  REGULAR  6736349  2283384       True          5  "
      ]
     },
     "execution_count": 171,
     "metadata": {},
     "output_type": "execute_result"
    }
   ],
   "source": [
    "# rename / drop columns, set new index\n",
    "df = df.rename(columns = {'DATE': 'date'})\n",
    "df.columns = [col.title().strip() for col in df.columns]\n",
    "# df = df.drop('C/A', axis = 1) # If you don't pass the axis=1 parameter, pandas will try and drop a row with the specified index\n",
    "# df = df.set_index('UNIT')\n",
    "# df = df.reset_index()\n",
    "df.head()"
   ]
  },
  {
   "cell_type": "code",
   "execution_count": 174,
   "metadata": {},
   "outputs": [
    {
     "data": {
      "text/html": [
       "<div>\n",
       "<style scoped>\n",
       "    .dataframe tbody tr th:only-of-type {\n",
       "        vertical-align: middle;\n",
       "    }\n",
       "\n",
       "    .dataframe tbody tr th {\n",
       "        vertical-align: top;\n",
       "    }\n",
       "\n",
       "    .dataframe thead th {\n",
       "        text-align: right;\n",
       "    }\n",
       "</style>\n",
       "<table border=\"1\" class=\"dataframe\">\n",
       "  <thead>\n",
       "    <tr style=\"text-align: right;\">\n",
       "      <th></th>\n",
       "      <th>Dayofweek</th>\n",
       "      <th>Entries</th>\n",
       "      <th>Exits</th>\n",
       "      <th>On_N_Line</th>\n",
       "    </tr>\n",
       "  </thead>\n",
       "  <tbody>\n",
       "    <tr>\n",
       "      <th>0</th>\n",
       "      <td>0</td>\n",
       "      <td>4.765429e+10</td>\n",
       "      <td>44923086816</td>\n",
       "      <td>701.0</td>\n",
       "    </tr>\n",
       "    <tr>\n",
       "      <th>1</th>\n",
       "      <td>1</td>\n",
       "      <td>4.763098e+10</td>\n",
       "      <td>44906956142</td>\n",
       "      <td>699.0</td>\n",
       "    </tr>\n",
       "    <tr>\n",
       "      <th>2</th>\n",
       "      <td>2</td>\n",
       "      <td>4.758829e+10</td>\n",
       "      <td>44856581430</td>\n",
       "      <td>684.0</td>\n",
       "    </tr>\n",
       "    <tr>\n",
       "      <th>3</th>\n",
       "      <td>3</td>\n",
       "      <td>4.772049e+10</td>\n",
       "      <td>44934228508</td>\n",
       "      <td>700.0</td>\n",
       "    </tr>\n",
       "    <tr>\n",
       "      <th>4</th>\n",
       "      <td>4</td>\n",
       "      <td>4.759068e+10</td>\n",
       "      <td>44858474046</td>\n",
       "      <td>684.0</td>\n",
       "    </tr>\n",
       "    <tr>\n",
       "      <th>5</th>\n",
       "      <td>5</td>\n",
       "      <td>4.758862e+10</td>\n",
       "      <td>44853949433</td>\n",
       "      <td>690.0</td>\n",
       "    </tr>\n",
       "    <tr>\n",
       "      <th>6</th>\n",
       "      <td>6</td>\n",
       "      <td>4.758924e+10</td>\n",
       "      <td>44854509635</td>\n",
       "      <td>690.0</td>\n",
       "    </tr>\n",
       "  </tbody>\n",
       "</table>\n",
       "</div>"
      ],
      "text/plain": [
       "   Dayofweek       Entries        Exits  On_N_Line\n",
       "0          0  4.765429e+10  44923086816      701.0\n",
       "1          1  4.763098e+10  44906956142      699.0\n",
       "2          2  4.758829e+10  44856581430      684.0\n",
       "3          3  4.772049e+10  44934228508      700.0\n",
       "4          4  4.759068e+10  44858474046      684.0\n",
       "5          5  4.758862e+10  44853949433      690.0\n",
       "6          6  4.758924e+10  44854509635      690.0"
      ]
     },
     "execution_count": 174,
     "metadata": {},
     "output_type": "execute_result"
    },
    {
     "data": {
      "image/png": "[encoded data removed]",
      "text/plain": [
       "<Figure size 432x288 with 1 Axes>"
      ]
     },
     "metadata": {
      "needs_background": "light"
     },
     "output_type": "display_data"
    }
   ],
   "source": [
    "df.Date = pd.to_datetime(df.Date)\n",
    "df['Dayofweek'] = df.date.dt.dayofweek\n",
    "grouped = df.groupby('Dayofweek').sum()\n",
    "grouped.plot(kind = 'barh')\n",
    "grouped = grouped.reset_index()\n",
    "grouped"
   ]
  },
  {
   "cell_type": "code",
   "execution_count": 184,
   "metadata": {},
   "outputs": [
    {
     "data": {
      "text/html": [
       "<div>\n",
       "<style scoped>\n",
       "    .dataframe tbody tr th:only-of-type {\n",
       "        vertical-align: middle;\n",
       "    }\n",
       "\n",
       "    .dataframe tbody tr th {\n",
       "        vertical-align: top;\n",
       "    }\n",
       "\n",
       "    .dataframe thead th {\n",
       "        text-align: right;\n",
       "    }\n",
       "</style>\n",
       "<table border=\"1\" class=\"dataframe\">\n",
       "  <thead>\n",
       "    <tr style=\"text-align: right;\">\n",
       "      <th></th>\n",
       "      <th>Dayofweek</th>\n",
       "      <th>Entries</th>\n",
       "      <th>Exits</th>\n",
       "      <th>On_N_Line</th>\n",
       "    </tr>\n",
       "    <tr>\n",
       "      <th>IsWeekend</th>\n",
       "      <th></th>\n",
       "      <th></th>\n",
       "      <th></th>\n",
       "      <th></th>\n",
       "    </tr>\n",
       "  </thead>\n",
       "  <tbody>\n",
       "    <tr>\n",
       "      <th>False</th>\n",
       "      <td>2.0</td>\n",
       "      <td>4.763695e+10</td>\n",
       "      <td>4.489587e+10</td>\n",
       "      <td>693.6</td>\n",
       "    </tr>\n",
       "    <tr>\n",
       "      <th>True</th>\n",
       "      <td>5.5</td>\n",
       "      <td>4.758893e+10</td>\n",
       "      <td>4.485423e+10</td>\n",
       "      <td>690.0</td>\n",
       "    </tr>\n",
       "  </tbody>\n",
       "</table>\n",
       "</div>"
      ],
      "text/plain": [
       "           Dayofweek       Entries         Exits  On_N_Line\n",
       "IsWeekend                                                  \n",
       "False            2.0  4.763695e+10  4.489587e+10      693.6\n",
       "True             5.5  4.758893e+10  4.485423e+10      690.0"
      ]
     },
     "metadata": {},
     "output_type": "display_data"
    },
    {
     "data": {
      "text/plain": [
       "<matplotlib.axes._subplots.AxesSubplot at 0xa97a898>"
      ]
     },
     "execution_count": 184,
     "metadata": {},
     "output_type": "execute_result"
    },
    {
     "data": {
      "image/png": "[encoded data removed]",
      "text/plain": [
       "<Figure size 432x288 with 1 Axes>"
      ]
     },
     "metadata": {
      "needs_background": "light"
     },
     "output_type": "display_data"
    }
   ],
   "source": [
    "grouped['IsWeekend'] = grouped.Dayofweek.map({0:False,1:False,2:False,3:False,4:False,5:True,6:True})\n",
    "wkend = grouped.groupby('IsWeekend').mean()\n",
    "display(wkend)\n",
    "wkend[['Entries', 'Exits']].plot(kind='barh')"
   ]
  },
  {
   "cell_type": "markdown",
   "metadata": {},
   "source": [
    "## Accessing Data"
   ]
  },
  {
   "cell_type": "code",
   "execution_count": 309,
   "metadata": {},
   "outputs": [
    {
     "data": {
      "text/html": [
       "<div>\n",
       "<style scoped>\n",
       "    .dataframe tbody tr th:only-of-type {\n",
       "        vertical-align: middle;\n",
       "    }\n",
       "\n",
       "    .dataframe tbody tr th {\n",
       "        vertical-align: top;\n",
       "    }\n",
       "\n",
       "    .dataframe thead th {\n",
       "        text-align: right;\n",
       "    }\n",
       "</style>\n",
       "<table border=\"1\" class=\"dataframe\">\n",
       "  <thead>\n",
       "    <tr style=\"text-align: right;\">\n",
       "      <th></th>\n",
       "      <th>Station</th>\n",
       "      <th>Entries</th>\n",
       "      <th>Exits</th>\n",
       "    </tr>\n",
       "  </thead>\n",
       "  <tbody>\n",
       "    <tr>\n",
       "      <th>295</th>\n",
       "      <td>Station4</td>\n",
       "      <td>10964211</td>\n",
       "      <td>1367258</td>\n",
       "    </tr>\n",
       "    <tr>\n",
       "      <th>296</th>\n",
       "      <td>Station4</td>\n",
       "      <td>10964268</td>\n",
       "      <td>1367261</td>\n",
       "    </tr>\n",
       "    <tr>\n",
       "      <th>297</th>\n",
       "      <td>Station4</td>\n",
       "      <td>10964438</td>\n",
       "      <td>1367285</td>\n",
       "    </tr>\n",
       "    <tr>\n",
       "      <th>298</th>\n",
       "      <td>Station4</td>\n",
       "      <td>10964772</td>\n",
       "      <td>1367303</td>\n",
       "    </tr>\n",
       "    <tr>\n",
       "      <th>299</th>\n",
       "      <td>Station4</td>\n",
       "      <td>10965307</td>\n",
       "      <td>1367311</td>\n",
       "    </tr>\n",
       "    <tr>\n",
       "      <th>300</th>\n",
       "      <td>Station4</td>\n",
       "      <td>10965692</td>\n",
       "      <td>1367317</td>\n",
       "    </tr>\n",
       "    <tr>\n",
       "      <th>301</th>\n",
       "      <td>Station4</td>\n",
       "      <td>10965767</td>\n",
       "      <td>1367318</td>\n",
       "    </tr>\n",
       "    <tr>\n",
       "      <th>302</th>\n",
       "      <td>Station4</td>\n",
       "      <td>10965821</td>\n",
       "      <td>1367321</td>\n",
       "    </tr>\n",
       "    <tr>\n",
       "      <th>303</th>\n",
       "      <td>Station4</td>\n",
       "      <td>10966055</td>\n",
       "      <td>1367336</td>\n",
       "    </tr>\n",
       "    <tr>\n",
       "      <th>304</th>\n",
       "      <td>Station4</td>\n",
       "      <td>10966439</td>\n",
       "      <td>1367348</td>\n",
       "    </tr>\n",
       "  </tbody>\n",
       "</table>\n",
       "</div>"
      ],
      "text/plain": [
       "      Station   Entries    Exits\n",
       "295  Station4  10964211  1367258\n",
       "296  Station4  10964268  1367261\n",
       "297  Station4  10964438  1367285\n",
       "298  Station4  10964772  1367303\n",
       "299  Station4  10965307  1367311\n",
       "300  Station4  10965692  1367317\n",
       "301  Station4  10965767  1367318\n",
       "302  Station4  10965821  1367321\n",
       "303  Station4  10966055  1367336\n",
       "304  Station4  10966439  1367348"
      ]
     },
     "metadata": {},
     "output_type": "display_data"
    }
   ],
   "source": [
    "# dataframes\n",
    "\n",
    "df.head()\n",
    "df.tail()\n",
    "# df.info()\n",
    "df.index\n",
    "df.dtypes\n",
    "df.columns\n",
    "df.shape\n",
    "\n",
    "df.iloc[5:80, 2:10] # integer-location based indexing\n",
    "# df.loc[:, 'Linename'] # label-location based indexing\n",
    "# or\n",
    "df['Linename']\n",
    "# boolean indexing\n",
    "display(df.loc[(df['Entries'] > 7740888) & (df['Exits'] > 1367254), ['Station', 'Entries', 'Exits']][0:10])\n",
    "\n",
    "# update values\n",
    "df.loc[df['Entries'] > 7740888, ['Station']] = 'Station4'\n",
    "\n",
    "# create new column\n",
    "# df.loc[df['Entries'] > 7740888, 'NewCol'] = 'Busy'"
   ]
  },
  {
   "cell_type": "code",
   "execution_count": 313,
   "metadata": {},
   "outputs": [
    {
     "data": {
      "text/plain": [
       "array(['NQR456W', 'NQRW', 'ACENQRS1237W', 'BDFMNQRW', 'NRW', 'LNQR456W'],\n",
       "      dtype=object)"
      ]
     },
     "execution_count": 313,
     "metadata": {},
     "output_type": "execute_result"
    }
   ],
   "source": [
    "# series\n",
    "\n",
    "linenames = df['Linename']\n",
    "linenames.unique()"
   ]
  },
  {
   "cell_type": "markdown",
   "metadata": {},
   "source": [
    "## Statistical Methods"
   ]
  },
  {
   "cell_type": "code",
   "execution_count": 352,
   "metadata": {},
   "outputs": [
    {
     "data": {
      "text/plain": [
       "array(['59 ST', 'Station4', '5 AV/59 ST', '57 ST-7 AV', '49 ST',\n",
       "       'TIMES SQ-42 ST', '34 ST-HERALD SQ', '28 ST', '23 ST',\n",
       "       '14 ST-UNION SQ'], dtype=object)"
      ]
     },
     "execution_count": 352,
     "metadata": {},
     "output_type": "execute_result"
    }
   ],
   "source": [
    "df.describe()\n",
    "df.mean()\n",
    "df['Entries'].mean()\n",
    "df['Entries'].quantile(.9) # get the value for 90% quantile for a specific column\n",
    "df['Entries'].count()\n",
    "df['Entries'].std()\n",
    "df['Entries'].sum()\n",
    "# pd.options.display.max_rows = 99999\n",
    "# display(df['Entries'].cumsum()) # the cumulative sum, where each cell index contains the sum of all indices lower than, and including, itself\n",
    "df['Station'].unique()\n",
    "df['Station'].value_counts()"
   ]
  }
 ],
 "metadata": {
  "kernelspec": {
   "display_name": "learn-env",
   "language": "python",
   "name": "learn-env"
  },
  "language_info": {
   "codemirror_mode": {
    "name": "ipython",
    "version": 3
   },
   "file_extension": ".py",
   "mimetype": "text/x-python",
   "name": "python",
   "nbconvert_exporter": "python",
   "pygments_lexer": "ipython3",
   "version": "3.6.6"
  }
 },
 "nbformat": 4,
 "nbformat_minor": 2
}
