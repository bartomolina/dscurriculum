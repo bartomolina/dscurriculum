{
 "cells": [
  {
   "cell_type": "markdown",
   "metadata": {},
   "source": [
    "# Python libraries\n",
    "- Scientific Computation\n",
    "  - NumPy\n",
    "  - SciPy: functions for linear algebra, optimization, integration and statistics (built on top of NumPy)\n",
    "  - Statsmodels\n",
    "  - Pandas: \"relational\" data. Series (one dimension) and Data Frames (two dimensional)\n",
    "- Data Visualization\n",
    "  - MatplotLib\n",
    "  - Seaborn: complimentary to Matplotlib. targets statistical data visualizations\n",
    "- Machine Learning\n",
    "  - Scikit-Learn\n",
    "- Deep Learning (Keras / TensorFlow)\n",
    "  - TensorFlow: data flow graph computations\n",
    "  - Keras: neural networks. Can use Theano or TensorFlow"
   ]
  },
  {
   "cell_type": "markdown",
   "metadata": {},
   "source": [
    "# Pandas"
   ]
  },
  {
   "cell_type": "code",
   "execution_count": 41,
   "metadata": {},
   "outputs": [
    {
     "data": {
      "text/html": [
       "<div>\n",
       "<style scoped>\n",
       "    .dataframe tbody tr th:only-of-type {\n",
       "        vertical-align: middle;\n",
       "    }\n",
       "\n",
       "    .dataframe tbody tr th {\n",
       "        vertical-align: top;\n",
       "    }\n",
       "\n",
       "    .dataframe thead th {\n",
       "        text-align: right;\n",
       "    }\n",
       "</style>\n",
       "<table border=\"1\" class=\"dataframe\">\n",
       "  <thead>\n",
       "    <tr style=\"text-align: right;\">\n",
       "      <th></th>\n",
       "      <th>GEO.id</th>\n",
       "      <th>GEO.id2</th>\n",
       "    </tr>\n",
       "  </thead>\n",
       "  <tbody>\n",
       "    <tr>\n",
       "      <th>0</th>\n",
       "      <td>Id</td>\n",
       "      <td>Id2</td>\n",
       "    </tr>\n",
       "    <tr>\n",
       "      <th>1</th>\n",
       "      <td>0500000US01001</td>\n",
       "      <td>01001</td>\n",
       "    </tr>\n",
       "  </tbody>\n",
       "</table>\n",
       "</div>"
      ],
      "text/plain": [
       "           GEO.id GEO.id2\n",
       "0              Id     Id2\n",
       "1  0500000US01001   01001"
      ]
     },
     "execution_count": 41,
     "metadata": {},
     "output_type": "execute_result"
    }
   ],
   "source": [
    "import pandas as pd\n",
    "\n",
    "df = pd.read_csv('Data/ACS_16_5YR_B24011_with_ann.csv', usecols=['GEO.id', 'GEO.id2'], encoding='latin-1')\n",
    "# df = df.drop(0)\n",
    "df.head(2)"
   ]
  },
  {
   "cell_type": "code",
   "execution_count": 6,
   "metadata": {},
   "outputs": [
    {
     "data": {
      "text/plain": [
       "['Biz_id_RESDU',\n",
       " 'Biz_id_4JNXU',\n",
       " 'Biz_id_YJ8lj',\n",
       " 'Biz_id_ujHia',\n",
       " 'Biz_id_na4Th']"
      ]
     },
     "execution_count": 6,
     "metadata": {},
     "output_type": "execute_result"
    }
   ],
   "source": [
    "# excel sheet names\n",
    "workbook = pd.ExcelFile('Data/Yelp_Selected_Businesses.xlsx')\n",
    "workbook.sheet_names"
   ]
  },
  {
   "cell_type": "code",
   "execution_count": 11,
   "metadata": {},
   "outputs": [],
   "source": [
    "# save results\n",
    "df.to_csv('NewSavedView.csv', index=False) #Notice how we have to pass index=False if we do not want it included in our output"
   ]
  },
  {
   "cell_type": "markdown",
   "metadata": {},
   "source": [
    "## Series and Data Frames"
   ]
  },
  {
   "cell_type": "code",
   "execution_count": 43,
   "metadata": {},
   "outputs": [
    {
     "name": "stdout",
     "output_type": "stream",
     "text": [
      "4848\n"
     ]
    }
   ],
   "source": [
    "import pandas as pd\n",
    "import matplotlib.pyplot as plt\n",
    "%matplotlib inline\n",
    "\n",
    "df = pd.read_csv('Data/turnstile_180901.txt')\n",
    "print(len(df))\n",
    "# df.info()"
   ]
  },
  {
   "cell_type": "code",
   "execution_count": 34,
   "metadata": {},
   "outputs": [],
   "source": [
    "def contains_n(text):\n",
    "    return 'N' in text\n",
    "\n",
    "df['On_N_Line'] = df.LINENAME.map(contains_n)"
   ]
  },
  {
   "cell_type": "code",
   "execution_count": 59,
   "metadata": {},
   "outputs": [
    {
     "name": "stdout",
     "output_type": "stream",
     "text": [
      "2018-08-25 00:00:00\n"
     ]
    },
    {
     "data": {
      "text/plain": [
       "0    Saturday\n",
       "1    Saturday\n",
       "2    Saturday\n",
       "3    Saturday\n",
       "4    Saturday\n",
       "Name: DATE, dtype: object"
      ]
     },
     "execution_count": 59,
     "metadata": {},
     "output_type": "execute_result"
    }
   ],
   "source": [
    "df.columns\n",
    "\n",
    "# change column data types\n",
    "df.ENTRIES = df.ENTRIES.astype(int)\n",
    "df.ENTRIES.dtype\n",
    "\n",
    "# dates\n",
    "# iloc slicing series / dataframes\n",
    "print(df.DATE.iloc[0])\n",
    "# pd.to_datetime(df.DATE, format='%m/%d/%Y').head()\n",
    "pd.to_datetime(df.DATE).head()\n",
    "# dt methods\n",
    "df.DATE = pd.to_datetime(df.DATE)\n",
    "df.DATE.dt.day_name().head()"
   ]
  },
  {
   "cell_type": "code",
   "execution_count": 65,
   "metadata": {},
   "outputs": [
    {
     "data": {
      "text/html": [
       "<div>\n",
       "<style scoped>\n",
       "    .dataframe tbody tr th:only-of-type {\n",
       "        vertical-align: middle;\n",
       "    }\n",
       "\n",
       "    .dataframe tbody tr th {\n",
       "        vertical-align: top;\n",
       "    }\n",
       "\n",
       "    .dataframe thead th {\n",
       "        text-align: right;\n",
       "    }\n",
       "</style>\n",
       "<table border=\"1\" class=\"dataframe\">\n",
       "  <thead>\n",
       "    <tr style=\"text-align: right;\">\n",
       "      <th></th>\n",
       "      <th>UNIT</th>\n",
       "      <th>SCP</th>\n",
       "      <th>STATION</th>\n",
       "      <th>LINENAME</th>\n",
       "      <th>DIVISION</th>\n",
       "      <th>TIME</th>\n",
       "      <th>DESC</th>\n",
       "      <th>ENTRIES</th>\n",
       "      <th>EXITS</th>\n",
       "    </tr>\n",
       "    <tr>\n",
       "      <th>date</th>\n",
       "      <th></th>\n",
       "      <th></th>\n",
       "      <th></th>\n",
       "      <th></th>\n",
       "      <th></th>\n",
       "      <th></th>\n",
       "      <th></th>\n",
       "      <th></th>\n",
       "      <th></th>\n",
       "    </tr>\n",
       "  </thead>\n",
       "  <tbody>\n",
       "    <tr>\n",
       "      <th>2018-08-25</th>\n",
       "      <td>R051</td>\n",
       "      <td>02-00-00</td>\n",
       "      <td>59 ST</td>\n",
       "      <td>NQR456W</td>\n",
       "      <td>BMT</td>\n",
       "      <td>00:00:00</td>\n",
       "      <td>REGULAR</td>\n",
       "      <td>6736067</td>\n",
       "      <td>2283184</td>\n",
       "    </tr>\n",
       "    <tr>\n",
       "      <th>2018-08-25</th>\n",
       "      <td>R051</td>\n",
       "      <td>02-00-00</td>\n",
       "      <td>59 ST</td>\n",
       "      <td>NQR456W</td>\n",
       "      <td>BMT</td>\n",
       "      <td>04:00:00</td>\n",
       "      <td>REGULAR</td>\n",
       "      <td>6736087</td>\n",
       "      <td>2283188</td>\n",
       "    </tr>\n",
       "    <tr>\n",
       "      <th>2018-08-25</th>\n",
       "      <td>R051</td>\n",
       "      <td>02-00-00</td>\n",
       "      <td>59 ST</td>\n",
       "      <td>NQR456W</td>\n",
       "      <td>BMT</td>\n",
       "      <td>08:00:00</td>\n",
       "      <td>REGULAR</td>\n",
       "      <td>6736105</td>\n",
       "      <td>2283229</td>\n",
       "    </tr>\n",
       "    <tr>\n",
       "      <th>2018-08-25</th>\n",
       "      <td>R051</td>\n",
       "      <td>02-00-00</td>\n",
       "      <td>59 ST</td>\n",
       "      <td>NQR456W</td>\n",
       "      <td>BMT</td>\n",
       "      <td>12:00:00</td>\n",
       "      <td>REGULAR</td>\n",
       "      <td>6736180</td>\n",
       "      <td>2283314</td>\n",
       "    </tr>\n",
       "    <tr>\n",
       "      <th>2018-08-25</th>\n",
       "      <td>R051</td>\n",
       "      <td>02-00-00</td>\n",
       "      <td>59 ST</td>\n",
       "      <td>NQR456W</td>\n",
       "      <td>BMT</td>\n",
       "      <td>16:00:00</td>\n",
       "      <td>REGULAR</td>\n",
       "      <td>6736349</td>\n",
       "      <td>2283384</td>\n",
       "    </tr>\n",
       "  </tbody>\n",
       "</table>\n",
       "</div>"
      ],
      "text/plain": [
       "            UNIT       SCP STATION LINENAME DIVISION      TIME     DESC  \\\n",
       "date                                                                      \n",
       "2018-08-25  R051  02-00-00   59 ST  NQR456W      BMT  00:00:00  REGULAR   \n",
       "2018-08-25  R051  02-00-00   59 ST  NQR456W      BMT  04:00:00  REGULAR   \n",
       "2018-08-25  R051  02-00-00   59 ST  NQR456W      BMT  08:00:00  REGULAR   \n",
       "2018-08-25  R051  02-00-00   59 ST  NQR456W      BMT  12:00:00  REGULAR   \n",
       "2018-08-25  R051  02-00-00   59 ST  NQR456W      BMT  16:00:00  REGULAR   \n",
       "\n",
       "            ENTRIES  \\\n",
       "date                  \n",
       "2018-08-25  6736067   \n",
       "2018-08-25  6736087   \n",
       "2018-08-25  6736105   \n",
       "2018-08-25  6736180   \n",
       "2018-08-25  6736349   \n",
       "\n",
       "            EXITS                                                                 \n",
       "date                                                                              \n",
       "2018-08-25                                            2283184                     \n",
       "2018-08-25                                            2283188                     \n",
       "2018-08-25                                            2283229                     \n",
       "2018-08-25                                            2283314                     \n",
       "2018-08-25                                            2283384                     "
      ]
     },
     "execution_count": 65,
     "metadata": {},
     "output_type": "execute_result"
    }
   ],
   "source": [
    "# rename / drop columns, set new index\n",
    "df = df.rename(columns = {'DATE': 'date'})\n",
    "# df = df.drop('C/A', axis = 1) # If you don't pass the axis=1 parameter, pandas will try and drop a row with the specified index\n",
    "df = df.set_index('date')\n",
    "df.head()"
   ]
  }
 ],
 "metadata": {
  "kernelspec": {
   "display_name": "learn-env",
   "language": "python",
   "name": "learn-env"
  },
  "language_info": {
   "codemirror_mode": {
    "name": "ipython",
    "version": 3
   },
   "file_extension": ".py",
   "mimetype": "text/x-python",
   "name": "python",
   "nbconvert_exporter": "python",
   "pygments_lexer": "ipython3",
   "version": "3.6.6"
  }
 },
 "nbformat": 4,
 "nbformat_minor": 2
}
