{
 "cells": [
  {
   "cell_type": "markdown",
   "metadata": {},
   "source": [
    "# Data analysis"
   ]
  },
  {
   "cell_type": "markdown",
   "metadata": {},
   "source": [
    "- Inspect columns\n",
    "  - info / describe (5 number summary)\n",
    "  - nunique / unique\n",
    "- Histograms `df.hist(figsize=(18, 10))` -> skewness / kurtosis / outliers\n",
    "- Box plots\n",
    "- Scatterplot / `sns.pairplot(data)`\n",
    "- Data types\n",
    "- Nulls, drop columns\n",
    "- Multicollinearity\n",
    "- Sub dataframe\n",
    "- Scaling and normalization"
   ]
  },
  {
   "cell_type": "markdown",
   "metadata": {},
   "source": [
    "# Categorical variables"
   ]
  },
  {
   "cell_type": "markdown",
   "metadata": {},
   "source": [
    "- Binning\n",
    "- Label encoding\n",
    "- Dummy variables / one-hot encoding"
   ]
  },
  {
   "cell_type": "markdown",
   "metadata": {},
   "source": [
    "# Linear Regression"
   ]
  },
  {
   "cell_type": "markdown",
   "metadata": {},
   "source": [
    "Model steps:\n",
    "- scatter plot\n",
    "- distributions of dependent and independent variables\n",
    "\n",
    "Test:\n",
    "- Linearity (scatter plots). Check for outliers\n",
    "- Normality: **model residuals** should follow a normal distribution (histograms or Q-Q plots)\n",
    "- Homoscedasticity <> Heteroscedasticity: dependent variable variability (scatter)"
   ]
  },
  {
   "cell_type": "markdown",
   "metadata": {},
   "source": [
    "`plt.scatter(df.height, df.weight)\n",
    "df.plot.kde()`\n",
    "\n",
    "`df[column].plot.hist(normed=True, label = column + ' histogram')\n",
    "df[column].plot.kde(label = column + ' kde')`\n",
    "\n",
    "- Linearity\n",
    "\n",
    "`fig, axs = plt.subplots(1, 3, sharey=True, figsize=(18, 6))\n",
    "for idx, channel in enumerate(['TV', 'radio', 'newspaper']):\n",
    "    df.plot(kind='scatter', x=channel, y='sales', ax=axs[idx], label=channel)\n",
    "plt.legend()\n",
    "plt.show()`\n",
    "\n",
    "- OLS (Ordinary Least Square regression)\n",
    "\n",
    "`f = 'weight~height'\n",
    "model = ols(formula=f, data=df).fit()\n",
    "model.summary()`\n",
    "\n",
    "**Note Intercept**: association vs. causation\n",
    "\n",
    "Prediction:\n",
    "\n",
    "`new_df = pd.DataFrame({'TV': [df.TV.min(), df.TV.max()]})\n",
    "model.predict(new_df)`\n",
    "\n",
    "Error terms:\n",
    "\n",
    "`fig = plt.figure(figsize=(15,8))\n",
    "fig = sm.graphics.plot_regress_exog(model, \"height\", fig=fig)\n",
    "plt.show()`\n",
    "\n",
    "Q-Q Plots:\n",
    "\n",
    "`residuals = model.resid\n",
    "fig = sm.graphics.qqplot(residuals, dist=stats.norm, line='45', fit=True)\n",
    "fig.show()`\n",
    "\n",
    "Jarque-Bera test:\n",
    "\n",
    "JB value of roughly 6 or higher indicates that errors are not normally distributed. Close to 0: normally distributed"
   ]
  },
  {
   "cell_type": "markdown",
   "metadata": {},
   "source": [
    "# Multiple Regression"
   ]
  },
  {
   "cell_type": "markdown",
   "metadata": {},
   "source": [
    "- Identify multicollinearity\n",
    "  - Scatter matrix `pd.plotting.scatter_matrix(data_pred,figsize  = [9, 9])`\n",
    "  - Correlation matrix `data_pred.corr()` `abs(data_pred.corr()) > 0.75`\n",
    "  - Seaborn heatmap `sns.heatmap(data_pred.corr(), center=0)`\n",
    "- Remove problematic features `df = df.drop('col', axis=1`"
   ]
  }
 ],
 "metadata": {
  "kernelspec": {
   "display_name": "learn-env",
   "language": "python",
   "name": "learn-env"
  },
  "language_info": {
   "codemirror_mode": {
    "name": "ipython",
    "version": 3
   },
   "file_extension": ".py",
   "mimetype": "text/x-python",
   "name": "python",
   "nbconvert_exporter": "python",
   "pygments_lexer": "ipython3",
   "version": "3.7.3"
  },
  "varInspector": {
   "cols": {
    "lenName": 16,
    "lenType": 16,
    "lenVar": 40
   },
   "kernels_config": {
    "python": {
     "delete_cmd_postfix": "",
     "delete_cmd_prefix": "del ",
     "library": "var_list.py",
     "varRefreshCmd": "print(var_dic_list())"
    },
    "r": {
     "delete_cmd_postfix": ") ",
     "delete_cmd_prefix": "rm(",
     "library": "var_list.r",
     "varRefreshCmd": "cat(var_dic_list()) "
    }
   },
   "types_to_exclude": [
    "module",
    "function",
    "builtin_function_or_method",
    "instance",
    "_Feature"
   ],
   "window_display": false
  }
 },
 "nbformat": 4,
 "nbformat_minor": 2
}
