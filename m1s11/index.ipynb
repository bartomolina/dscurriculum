{
 "cells": [
  {
   "cell_type": "code",
   "execution_count": 1,
   "metadata": {
    "ExecuteTime": {
     "end_time": "2019-06-15T22:14:02.299479Z",
     "start_time": "2019-06-15T22:13:58.849887Z"
    }
   },
   "outputs": [],
   "source": [
    "import pandas as pd\n",
    "from sklearn.preprocessing import LabelEncoder\n",
    "from sklearn.preprocessing import LabelBinarizer\n",
    "from sklearn.datasets import load_boston\n",
    "import seaborn as sns\n",
    "\n",
    "import statsmodels.api as sm\n",
    "from statsmodels.formula.api import ols\n",
    "\n",
    "from sklearn.linear_model import LinearRegression"
   ]
  },
  {
   "cell_type": "markdown",
   "metadata": {},
   "source": [
    "# Multiple linear regression"
   ]
  },
  {
   "cell_type": "markdown",
   "metadata": {},
   "source": [
    "$\\text{estimated monthly income} = slope * seniority + intercept $\n",
    "\n",
    "$\\text{estimated monthly income} = slope\\_s * seniority + slope\\_ed * years\\_of\\_education  + intercept $\n",
    "\n",
    "$$ \\hat y = \\hat\\beta_0 + \\hat\\beta_1 x_1 + \\hat\\beta_2 x_2 +\\ldots + \\hat\\beta_n x_n $$ "
   ]
  },
  {
   "cell_type": "markdown",
   "metadata": {
    "ExecuteTime": {
     "end_time": "2019-06-15T22:14:41.772443Z",
     "start_time": "2019-06-15T22:14:41.756451Z"
    }
   },
   "source": [
    "**Using statsmodels**\n",
    "\n",
    "`formula = \"mpg ~ acceleration+weight+orig_1+orig_2+orig_3\"\n",
    "model = ols(formula= formula, data=data_ols).fit()`\n",
    "\n",
    "`outcome = 'mpg'\n",
    "predictors = data_ols.drop('mpg', axis=1)\n",
    "pred_sum = \"+\".join(predictors.columns)\n",
    "formula = outcome + \"~\" + pred_sum`\n",
    "\n",
    "`model = ols(formula= formula, data=data_ols).fit()\n",
    "model.summary()`\n",
    "\n",
    "**Using scikit learn**  \n",
    "Comparison: https://blog.thedataincubator.com/2017/11/scikit-learn-vs-statsmodels/\n",
    "\n",
    "`y = data_ols['mpg']\n",
    "linreg = LinearRegression()\n",
    "linreg.fit(predictors, y)`"
   ]
  },
  {
   "cell_type": "markdown",
   "metadata": {
    "heading_collapsed": true
   },
   "source": [
    "# Transform categorical variables"
   ]
  },
  {
   "cell_type": "markdown",
   "metadata": {
    "heading_collapsed": true,
    "hidden": true
   },
   "source": [
    "## Label encoding"
   ]
  },
  {
   "cell_type": "code",
   "execution_count": 5,
   "metadata": {
    "ExecuteTime": {
     "end_time": "2019-06-15T22:14:49.394053Z",
     "start_time": "2019-06-15T22:14:49.386057Z"
    },
    "hidden": true
   },
   "outputs": [],
   "source": [
    "origin = [\"USA\", \"EU\", \"EU\", \"ASIA\",\"USA\", \"EU\", \"EU\", \"ASIA\", \"ASIA\", \"USA\"]\n",
    "origin_series = pd.Series(origin)\n",
    "cat_origin = origin_series.astype('category')\n",
    "cat_origin.cat.codes # only when .astype('category')\n",
    "\n",
    "# with sklearn\n",
    "lb_make = LabelEncoder()\n",
    "origin_encoded = lb_make.fit_transform(cat_origin)"
   ]
  },
  {
   "cell_type": "markdown",
   "metadata": {
    "heading_collapsed": true,
    "hidden": true
   },
   "source": [
    "## Dummy variables / one-hot-encoding"
   ]
  },
  {
   "cell_type": "code",
   "execution_count": 17,
   "metadata": {
    "hidden": true
   },
   "outputs": [],
   "source": [
    "pd.get_dummies(cat_origin)\n",
    "\n",
    "# with sklearn\n",
    "lb = LabelBinarizer()\n",
    "origin_dummies = lb.fit_transform(cat_origin)\n",
    "# you need to convert this back to a dataframe\n",
    "origin_dum_df = pd.DataFrame(origin_dummies,columns=lb.classes_)"
   ]
  },
  {
   "cell_type": "markdown",
   "metadata": {
    "heading_collapsed": true,
    "hidden": true
   },
   "source": [
    "## Binning"
   ]
  },
  {
   "cell_type": "code",
   "execution_count": 31,
   "metadata": {
    "hidden": true
   },
   "outputs": [
    {
     "data": {
      "text/plain": [
       "<matplotlib.axes._subplots.AxesSubplot at 0x20fe456a240>"
      ]
     },
     "execution_count": 31,
     "metadata": {},
     "output_type": "execute_result"
    },
    {
     "data": {
      "image/png": "[encoded data removed]",
      "text/plain": [
       "<Figure size 432x288 with 1 Axes>"
      ]
     },
     "metadata": {
      "needs_background": "light"
     },
     "output_type": "display_data"
    }
   ],
   "source": [
    "boston = load_boston()\n",
    "boston_features = pd.DataFrame(boston.data,columns=boston.feature_names)\n",
    "boston_target = pd.DataFrame(boston.target, columns=['MEDV'])\n",
    "boston_df = pd.concat([boston_features, boston_target], axis=1)\n",
    "\n",
    "boston_df[\"RAD\"].describe()\n",
    "\n",
    "# create bins based on Q, .cut -> unordered categories\n",
    "bins = [0, 3, 4 , 5, 24]\n",
    "bins_rad = pd.cut(boston_df['RAD'], bins)\n",
    "bins_rad = bins_rad.cat.as_unordered()\n",
    "\n",
    "bins_rad.value_counts().plot(kind='bar')"
   ]
  },
  {
   "cell_type": "markdown",
   "metadata": {
    "heading_collapsed": true
   },
   "source": [
    "# Multicollinearity"
   ]
  },
  {
   "cell_type": "markdown",
   "metadata": {
    "hidden": true
   },
   "source": [
    "- Identify\n",
    "  - Scatter matrix `pd.plotting.scatter_matrix(data_pred,figsize  = [9, 9])`\n",
    "  - Correlation matrix `data_pred.corr()` `abs(data_pred.corr()) > 0.75`\n",
    "  - Seaborn heatmap `sns.heatmap(data_pred.corr(), center=0)`"
   ]
  },
  {
   "cell_type": "markdown",
   "metadata": {
    "heading_collapsed": true
   },
   "source": [
    "# Feature scaling and normalization"
   ]
  },
  {
   "cell_type": "markdown",
   "metadata": {
    "hidden": true
   },
   "source": [
    "- **Log transformation** Reduce skewness / variability. When data doesn't follow a normal distribution\n",
    "- **Min-max scaling** Scale values between 0 and 1 $$x' = \\dfrac{x-\\min(x)}{\\max(x)-\\min(x)}$$\n",
    "- **Standarization** $\\mu=0$, $\\sigma=1$ $$x' = \\dfrac{x - \\bar x}{\\sigma}$$\n",
    "- **Mean normalization** Values between -1 and 1, mean 0$$x' = \\dfrac{x - \\text{mean}(x)}{\\max(x)-\\min(x)}$$\n",
    "- **Unit vector transformation** x' with a range [0,1] $$x'= \\dfrac{x}{{||x||}}$$ Recall $$||x||= \\sqrt{(x_1^2+x_2^2+...+x_n^2)}$$"
   ]
  },
  {
   "cell_type": "markdown",
   "metadata": {
    "hidden": true
   },
   "source": [
    "- Log transformation `np.log(df.col)`\n",
    "- Standarization `(logdisp-np.mean(logdisp))/np.sqrt(np.var(logdisp))`\n",
    "- Mean normalization `(loghorse-np.mean(loghorse))/(max(loghorse)-min(loghorse))`\n",
    "\n",
    "`MinMaxScaler`, `StandardScaler` and `Normalizer`\n",
    "https://scikit-learn.org/stable/modules/classes.html#module-sklearn.preprocessing!"
   ]
  }
 ],
 "metadata": {
  "kernelspec": {
   "display_name": "learn-env",
   "language": "python",
   "name": "learn-env"
  },
  "language_info": {
   "codemirror_mode": {
    "name": "ipython",
    "version": 3
   },
   "file_extension": ".py",
   "mimetype": "text/x-python",
   "name": "python",
   "nbconvert_exporter": "python",
   "pygments_lexer": "ipython3",
   "version": "3.7.3"
  },
  "varInspector": {
   "cols": {
    "lenName": 16,
    "lenType": 16,
    "lenVar": 40
   },
   "kernels_config": {
    "python": {
     "delete_cmd_postfix": "",
     "delete_cmd_prefix": "del ",
     "library": "var_list.py",
     "varRefreshCmd": "print(var_dic_list())"
    },
    "r": {
     "delete_cmd_postfix": ") ",
     "delete_cmd_prefix": "rm(",
     "library": "var_list.r",
     "varRefreshCmd": "cat(var_dic_list()) "
    }
   },
   "types_to_exclude": [
    "module",
    "function",
    "builtin_function_or_method",
    "instance",
    "_Feature"
   ],
   "window_display": false
  }
 },
 "nbformat": 4,
 "nbformat_minor": 2
}
