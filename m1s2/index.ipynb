{
 "cells": [
  {
   "cell_type": "markdown",
   "metadata": {},
   "source": [
    "# Operators\n",
    "```python\n",
    "and\n",
    "```\n",
    "Compares two elements. If both elements are truthy, the second element is returned\n",
    "If there is a falsy value, the first falsy value is returned\n",
    "```python\n",
    "or\n",
    "```\n",
    "Compares two elements. The first truthy element is returned. \n",
    "If both elements are falsy, the second element is returned"
   ]
  },
  {
   "cell_type": "code",
   "execution_count": 4,
   "metadata": {},
   "outputs": [
    {
     "data": {
      "text/plain": [
       "[]"
      ]
     },
     "execution_count": 4,
     "metadata": {},
     "output_type": "execute_result"
    }
   ],
   "source": [
    "0 or []"
   ]
  },
  {
   "cell_type": "markdown",
   "metadata": {},
   "source": [
    "Ternary operator"
   ]
  },
  {
   "cell_type": "code",
   "execution_count": 6,
   "metadata": {},
   "outputs": [
    {
     "data": {
      "text/plain": [
       "20"
      ]
     },
     "execution_count": 6,
     "metadata": {},
     "output_type": "execute_result"
    }
   ],
   "source": [
    "x = 12\n",
    "y = 20\n",
    "var = x if x > y else y\n",
    "var"
   ]
  },
  {
   "cell_type": "markdown",
   "metadata": {},
   "source": [
    "Functions def funct_name (parameter) ... funct_name(argument)"
   ]
  },
  {
   "cell_type": "code",
   "execution_count": 9,
   "metadata": {},
   "outputs": [
    {
     "data": {
      "text/plain": [
       "[\"Hi Steven, I'm so glad to be working with you!\",\n",
       " \"Hi Jan, I'm so glad to be working with you!\",\n",
       " \"Hi Meryl, I'm so glad to be working with you!\"]"
      ]
     },
     "execution_count": 9,
     "metadata": {},
     "output_type": "execute_result"
    }
   ],
   "source": [
    "new_employees = ['steven', 'jan', 'meryl']\n",
    "\n",
    "def greet_employees(): # signature\n",
    "    welcome_messages = [] # body\n",
    "    for new_employee in new_employees:\n",
    "        welcome_messages.append(\"Hi \" + new_employee.title() + \", I'm so glad to be working with you!\" )\n",
    "\n",
    "    return welcome_messages\n",
    "\n",
    "greet_employees()"
   ]
  },
  {
   "cell_type": "markdown",
   "metadata": {},
   "source": [
    "Median"
   ]
  },
  {
   "cell_type": "code",
   "execution_count": 11,
   "metadata": {},
   "outputs": [],
   "source": [
    "def median_review_count(list_of_restaurants):\n",
    "    length = len(list_of_restaurants)\n",
    "    list_of_restaurants.sort(key=lambda e: e['review_count'], reverse=True)\n",
    "    if ((length % 2) == 0):\n",
    "        half = int(length/2)\n",
    "        median = (list_of_restaurants[half]['review_count'] + list_of_restaurants[half-1]['review_count'])/2\n",
    "        return median\n",
    "    else:\n",
    "        half = int((length - 1)/2)\n",
    "        median = list_of_restaurants[half]\n",
    "        return median"
   ]
  },
  {
   "cell_type": "markdown",
   "metadata": {},
   "source": [
    "# Measures of...\n",
    "## Central Tendency\n",
    "* Mean\n",
    "* Median\n",
    "* Mode: If two (or more) values occur with the same frequency in a dataset, both (or all) of the items are considered the mode of the data and the data set is multimodal.\n",
    "  \n",
    "  \n",
    "* Symmetrical distributions: mode == median == mode\n",
    "* Skewed distributions\n",
    "  \n",
    "outliers affect specially the Mean\n",
    "## Central Tendency\n",
    "* Abolute Deviation: Absolute Deviation"
   ]
  },
  {
   "cell_type": "code",
   "execution_count": null,
   "metadata": {},
   "outputs": [],
   "source": []
  }
 ],
 "metadata": {
  "kernelspec": {
   "display_name": "learn-env",
   "language": "python",
   "name": "learn-env"
  },
  "language_info": {
   "codemirror_mode": {
    "name": "ipython",
    "version": 3
   },
   "file_extension": ".py",
   "mimetype": "text/x-python",
   "name": "python",
   "nbconvert_exporter": "python",
   "pygments_lexer": "ipython3",
   "version": "3.6.6"
  }
 },
 "nbformat": 4,
 "nbformat_minor": 2
}
