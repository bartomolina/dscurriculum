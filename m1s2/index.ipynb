{
 "cells": [
  {
   "cell_type": "markdown",
   "metadata": {},
   "source": [
    "# Operators\n",
    "```python\n",
    "and\n",
    "```\n",
    "Compares two elements. If both elements are truthy, the second element is returned\n",
    "If there is a falsy value, the first falsy value is returned\n",
    "```python\n",
    "or\n",
    "```\n",
    "Compares two elements. The first truthy element is returned. \n",
    "If both elements are falsy, the second element is returned"
   ]
  },
  {
   "cell_type": "code",
   "execution_count": 4,
   "metadata": {},
   "outputs": [
    {
     "data": {
      "text/plain": [
       "[]"
      ]
     },
     "execution_count": 4,
     "metadata": {},
     "output_type": "execute_result"
    }
   ],
   "source": [
    "0 or []"
   ]
  },
  {
   "cell_type": "markdown",
   "metadata": {},
   "source": [
    "Ternary operator"
   ]
  },
  {
   "cell_type": "code",
   "execution_count": 6,
   "metadata": {},
   "outputs": [
    {
     "data": {
      "text/plain": [
       "20"
      ]
     },
     "execution_count": 6,
     "metadata": {},
     "output_type": "execute_result"
    }
   ],
   "source": [
    "x = 12\n",
    "y = 20\n",
    "var = x if x > y else y\n",
    "var"
   ]
  },
  {
   "cell_type": "markdown",
   "metadata": {},
   "source": [
    "Functions def funct_name (parameter) ... funct_name(argument)"
   ]
  },
  {
   "cell_type": "code",
   "execution_count": 9,
   "metadata": {},
   "outputs": [
    {
     "data": {
      "text/plain": [
       "[\"Hi Steven, I'm so glad to be working with you!\",\n",
       " \"Hi Jan, I'm so glad to be working with you!\",\n",
       " \"Hi Meryl, I'm so glad to be working with you!\"]"
      ]
     },
     "execution_count": 9,
     "metadata": {},
     "output_type": "execute_result"
    }
   ],
   "source": [
    "new_employees = ['steven', 'jan', 'meryl']\n",
    "\n",
    "def greet_employees(): # signature\n",
    "    welcome_messages = [] # body\n",
    "    for new_employee in new_employees:\n",
    "        welcome_messages.append(\"Hi \" + new_employee.title() + \", I'm so glad to be working with you!\" )\n",
    "\n",
    "    return welcome_messages\n",
    "\n",
    "greet_employees()"
   ]
  },
  {
   "cell_type": "markdown",
   "metadata": {},
   "source": [
    "Median"
   ]
  },
  {
   "cell_type": "code",
   "execution_count": 1,
   "metadata": {},
   "outputs": [],
   "source": [
    "def median_review_count(list_of_restaurants):\n",
    "    length = len(list_of_restaurants)\n",
    "    list_of_restaurants.sort(key=lambda e: e['review_count'], reverse=True)\n",
    "    if ((length % 2) == 0):\n",
    "        half = int(length/2)\n",
    "        median = (list_of_restaurants[half]['review_count'] + list_of_restaurants[half-1]['review_count'])/2\n",
    "        return median\n",
    "    else:\n",
    "        half = int((length - 1)/2)\n",
    "        median = list_of_restaurants[half]\n",
    "        return median"
   ]
  },
  {
   "cell_type": "markdown",
   "metadata": {},
   "source": [
    "# Measures of Dispersion\n",
    "## Central Tendency\n",
    "* Mean\n",
    "* Median\n",
    "* Mode: If two (or more) values occur with the same frequency in a dataset, both (or all) of the items are considered the mode of the data and the data set is multimodal.\n",
    "  \n",
    "  \n",
    "* Symmetrical distributions: mode == median == mode\n",
    "* Skewed distributions\n",
    "  \n",
    "outliers affect specially the Mean\n",
    "## Dispersion\n",
    "* Abolute Deviation: some value - mean score. Average Absolute Deviation: mean of all Absolute deviations\n",
    "* Variance: squarting instead of absolute values\n",
    "* Standard Deviation: useful for statistical inference -> calculate population standard deviation from sample standard deviation\n",
    "\n",
    "![](http://statisticslectures.com/images/samplevarstd.gif)\n",
    "\n",
    "Note: x̅ is our sample mean and μ is the true population mean\n",
    "## Quartiles and Percentiles\n",
    "**Quantiles** are points in a distribution that relate to the rank order of values in that distribution\n",
    "50th percentile: median. Limits minimun and maximum values  \n",
    "**interquartile range (IQR)** is a measure of where the “middle fifty” is in a data set\n",
    "![](http://sphweb.bumc.bu.edu/otlt/mph-modules/bs/bs704_summarizingdata/Interquartile-Even.png)\n",
    "```python\n",
    "q75, q25 = np.percentile(x, [75 ,25])\n",
    "```\n",
    "## Box Plots"
   ]
  },
  {
   "cell_type": "code",
   "execution_count": 2,
   "metadata": {},
   "outputs": [
    {
     "data": {
      "image/png": "[encoded data removed]",
      "text/plain": [
       "<Figure size 432x288 with 1 Axes>"
      ]
     },
     "metadata": {},
     "output_type": "display_data"
    }
   ],
   "source": [
    "import matplotlib.pyplot as plt\n",
    "plt.style.use('ggplot') # for viewing a grid on plot\n",
    "x = [54, 54, 54, 55, 56, 57, 57, 58, 58, 60, 81]\n",
    "plt.boxplot(x,  showfliers=False)\n",
    "plt.title (\"Retirement Age BoxPlot\")\n",
    "plt.show()"
   ]
  }
 ],
 "metadata": {
  "kernelspec": {
   "display_name": "learn-env",
   "language": "python",
   "name": "learn-env"
  },
  "language_info": {
   "codemirror_mode": {
    "name": "ipython",
    "version": 3
   },
   "file_extension": ".py",
   "mimetype": "text/x-python",
   "name": "python",
   "nbconvert_exporter": "python",
   "pygments_lexer": "ipython3",
   "version": "3.7.3"
  }
 },
 "nbformat": 4,
 "nbformat_minor": 2
}
