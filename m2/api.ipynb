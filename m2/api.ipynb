{
 "cells": [
  {
   "cell_type": "code",
   "execution_count": 2,
   "metadata": {},
   "outputs": [],
   "source": [
    "import requests"
   ]
  },
  {
   "cell_type": "code",
   "execution_count": 6,
   "metadata": {},
   "outputs": [
    {
     "name": "stdout",
     "output_type": "stream",
     "text": [
      "200\n"
     ]
    }
   ],
   "source": [
    "resp = requests.get('https://google.com')\n",
    "print(resp.status_code)\n",
    "# resp.text\n",
    "# resp.headers"
   ]
  },
  {
   "cell_type": "code",
   "execution_count": 8,
   "metadata": {},
   "outputs": [
    {
     "name": "stdout",
     "output_type": "stream",
     "text": [
      "{'args': {'password': 'learnlovecode', 'user_name': 'FlatironSchool'}, 'headers': {'Accept': '*/*', 'Accept-Encoding': 'gzip, deflate', 'Host': 'httpbin.org', 'User-Agent': 'python-requests/2.21.0'}, 'origin': '207.96.112.44, 207.96.112.44', 'url': 'https://httpbin.org/get?user_name=FlatironSchool&password=learnlovecode'}\n",
      "{'password': 'learnlovecode', 'user_name': 'FlatironSchool'}\n",
      "Sun, 07 Jul 2019 19:44:42 GMT\n"
     ]
    }
   ],
   "source": [
    "credentials = {'user_name': 'FlatironSchool', 'password': 'learnlovecode'}  \n",
    "\n",
    "r = requests.get('http://httpbin.org/get', params=credentials)\n",
    "\n",
    "response = r.json()  \n",
    "print(r.json())  \n",
    "print(response['args'])\n",
    "print(r.headers['Date'])"
   ]
  }
 ],
 "metadata": {
  "kernelspec": {
   "display_name": "learn-env",
   "language": "python",
   "name": "learn-env"
  },
  "language_info": {
   "codemirror_mode": {
    "name": "ipython",
    "version": 3
   },
   "file_extension": ".py",
   "mimetype": "text/x-python",
   "name": "python",
   "nbconvert_exporter": "python",
   "pygments_lexer": "ipython3",
   "version": "3.7.3"
  }
 },
 "nbformat": 4,
 "nbformat_minor": 2
}
