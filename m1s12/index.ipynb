{
 "cells": [
  {
   "cell_type": "markdown",
   "metadata": {},
   "source": [
    "# OSEMN process"
   ]
  },
  {
   "cell_type": "markdown",
   "metadata": {
    "ExecuteTime": {
     "end_time": "2019-06-06T22:44:23.194534Z",
     "start_time": "2019-06-06T22:44:23.186539Z"
    }
   },
   "source": [
    "## Data scrubbing"
   ]
  },
  {
   "cell_type": "markdown",
   "metadata": {},
   "source": [
    "- Subsample\n",
    "- Data types\n",
    "  - `df.info()`, check strings (objects), check for categoricals in integers and convert to string\n",
    "- Null values\n",
    "  - Truth table `df.isna()` / `df.isna().sum()`\n",
    "  - Placeholder values `value_counts()`\n",
    "  - Binning `pd.cut()`\n",
    "  - Dealing with null values\n",
    "    - Remove\n",
    "    - Replace\n",
    "      - Numeric: column median, binning data and convert to categorical (coarse classification)\n",
    "      - Categorical: null values as own category, replacing with most common category `df.Column.replace(np.NaN, \"NaN\", inplace=True)` (**Coarse Classification**)\n",
    "- Multicollinearity\n",
    "  - Heatmap `sns.heatmap()`\n",
    "  - Dealing with multicollinearity\n",
    "    - Remove one of the columns\n",
    "    - Combine columns\n",
    "- Normalize `df.Column = (df.Column - df.Column.mean()) / df.Column.std()`\n",
    "- One-hot encoding categorical data\n",
    "  - `one_hot_df = pd.get_dummies(df)`"
   ]
  },
  {
   "cell_type": "markdown",
   "metadata": {},
   "source": [
    "## Exploratory Data Analysis"
   ]
  },
  {
   "cell_type": "markdown",
   "metadata": {
    "ExecuteTime": {
     "end_time": "2019-06-10T22:19:13.152505Z",
     "start_time": "2019-06-10T22:19:13.147510Z"
    }
   },
   "source": [
    "- Visualizations\n",
    "  - Histograms\n",
    "  - KDE\n",
    "  - Join Plots `sns.joinplot()`"
   ]
  },
  {
   "cell_type": "markdown",
   "metadata": {},
   "source": [
    "# Modelling"
   ]
  }
 ],
 "metadata": {
  "kernelspec": {
   "display_name": "learn-env",
   "language": "python",
   "name": "learn-env"
  },
  "language_info": {
   "codemirror_mode": {
    "name": "ipython",
    "version": 3
   },
   "file_extension": ".py",
   "mimetype": "text/x-python",
   "name": "python",
   "nbconvert_exporter": "python",
   "pygments_lexer": "ipython3",
   "version": "3.7.3"
  },
  "varInspector": {
   "cols": {
    "lenName": 16,
    "lenType": 16,
    "lenVar": 40
   },
   "kernels_config": {
    "python": {
     "delete_cmd_postfix": "",
     "delete_cmd_prefix": "del ",
     "library": "var_list.py",
     "varRefreshCmd": "print(var_dic_list())"
    },
    "r": {
     "delete_cmd_postfix": ") ",
     "delete_cmd_prefix": "rm(",
     "library": "var_list.r",
     "varRefreshCmd": "cat(var_dic_list()) "
    }
   },
   "types_to_exclude": [
    "module",
    "function",
    "builtin_function_or_method",
    "instance",
    "_Feature"
   ],
   "window_display": false
  }
 },
 "nbformat": 4,
 "nbformat_minor": 2
}
