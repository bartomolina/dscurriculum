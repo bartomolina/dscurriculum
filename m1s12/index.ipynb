{
 "cells": [
  {
   "cell_type": "markdown",
   "metadata": {},
   "source": [
    "# OSEMN process"
   ]
  },
  {
   "cell_type": "markdown",
   "metadata": {
    "ExecuteTime": {
     "end_time": "2019-06-06T22:44:23.194534Z",
     "start_time": "2019-06-06T22:44:23.186539Z"
    }
   },
   "source": [
    "## 1. Data scrubbing"
   ]
  },
  {
   "cell_type": "markdown",
   "metadata": {},
   "source": [
    "- Subsample\n",
    "- Data types\n",
    "  - `df.info()`, check strings (objects), check for categoricals in integers and convert to string\n",
    "- Null values\n",
    "  - Truth table `df.isna()` / `df.isna().sum()`\n",
    "  - Placeholder values `value_counts()`\n",
    "  - Binning `pd.cut()`\n",
    "  - Dealing with null values\n",
    "    - Remove\n",
    "    - Replace\n",
    "      - Numeric: column median, binning data and convert to categorical (coarse classification)\n",
    "      - Categorical: null values as own category, replacing with most common category `df.Column.replace(np.NaN, \"NaN\", inplace=True)` (**Coarse Classification**)\n",
    "- Multicollinearity\n",
    "  - Heatmap `sns.heatmap()`\n",
    "  - Dealing with multicollinearity\n",
    "    - Remove one of the columns\n",
    "    - Combine columns\n",
    "- Normalize `df.Column = (df.Column - df.Column.mean()) / df.Column.std()`\n",
    "- One-hot encoding categorical data\n",
    "  - `one_hot_df = pd.get_dummies(df)`"
   ]
  },
  {
   "cell_type": "markdown",
   "metadata": {},
   "source": [
    "## 2. Exploratory Data Analysis"
   ]
  },
  {
   "cell_type": "markdown",
   "metadata": {
    "ExecuteTime": {
     "end_time": "2019-06-10T22:19:13.152505Z",
     "start_time": "2019-06-10T22:19:13.147510Z"
    }
   },
   "source": [
    "- Visualizations\n",
    "  - Histograms\n",
    "  - KDE\n",
    "  - Join Plots `sns.joinplot()`"
   ]
  },
  {
   "cell_type": "markdown",
   "metadata": {},
   "source": [
    "## 3. Modelling"
   ]
  },
  {
   "cell_type": "markdown",
   "metadata": {},
   "source": [
    "1. First model / feature selection\n",
    "\n",
    "`from statsmodels.formula.api import ols`\n",
    "\n",
    "`predictors = '+'.join(x_cols)\n",
    "formula = outcome + \"~\" + predictors\n",
    "model = ols(formula=formula, data=df).fit()\n",
    "model.summary()`\n",
    "\n",
    "Check for p-values, determine the features to be used in the model\n",
    "\n",
    "**Check for multicollinearity / variance inflation factor**\n",
    "\n",
    "`from statsmodels.stats.outliers_influence import variance_inflation_factor`\n",
    "\n",
    "`X = df[x_cols]\n",
    "vif = [variance_inflation_factor(X.values, i) for i in range(X.shape[1])]\n",
    "list(zip(x_cols, vif))`\n",
    "\n",
    "2. Check for normality (qq-plots)\n",
    "\n",
    "`import statsmodels.api as sm\n",
    "import scipy.stats as stats`\n",
    "\n",
    "`fig = sm.graphics.qqplot(model.resid, dist=stats.norm, line='45', fit=True)`\n",
    "\n",
    "3. Check for homoscedasticity\n",
    "\n",
    "`plt.scatter(model.predict(df[x_cols]), model.resid)\n",
    "plt.plot(model.predict(df[x_cols]), [0 for i in range(len(df))])`\n",
    "\n",
    "4. Remove outliers\n",
    "\n",
    "`for i in range(90,99):\n",
    "    q = i / 100\n",
    "    print('{} percentile: {}'.format(q, df['MPG_Highway'].quantile(q=q)))`\n",
    "    \n",
    "`subset = df[df['MPG_Highway']<38]\n",
    "print('Percent removed:',(len(df) - len(subset))/len(df))`"
   ]
  },
  {
   "cell_type": "markdown",
   "metadata": {},
   "source": [
    "### Feature ranking"
   ]
  },
  {
   "cell_type": "code",
   "execution_count": 2,
   "metadata": {
    "ExecuteTime": {
     "end_time": "2019-06-11T15:30:09.297152Z",
     "start_time": "2019-06-11T15:30:09.292134Z"
    }
   },
   "outputs": [],
   "source": [
    "from sklearn.feature_selection import RFE\n",
    "from sklearn.linear_model import LinearRegression\n",
    "linreg = LinearRegression()"
   ]
  },
  {
   "cell_type": "code",
   "execution_count": null,
   "metadata": {},
   "outputs": [],
   "source": [
    "r_list = []\n",
    "adj_r_list = []\n",
    "list_n = list(range(5,86,10))\n",
    "for n in list_n: \n",
    "    select_n = RFE(linreg, n_features_to_select = n)\n",
    "    select_n = select_n.fit(X, np.ravel(y))\n",
    "    selected_columns = X.columns[select_n.support_ ]\n",
    "    linreg.fit(X[selected_columns],y)\n",
    "    yhat = linreg.predict(X[selected_columns])\n",
    "    SS_Residual = np.sum((y-yhat)**2)\n",
    "    SS_Total = np.sum((y-np.mean(y))**2)\n",
    "    r_squared = 1 - (float(SS_Residual))/SS_Total\n",
    "    print(r_squared)\n",
    "    adjusted_r_squared = 1 - (1-r_squared)*(len(y)-1)/(len(y)-X.shape[1]-1)\n",
    "    print(adjusted_r_squared)\n",
    "r_list.append(r_squared)\n",
    "adj_r_list.append(adjusted_r_squared)"
   ]
  },
  {
   "cell_type": "markdown",
   "metadata": {},
   "source": [
    "## 4. Holdout validation"
   ]
  },
  {
   "cell_type": "markdown",
   "metadata": {},
   "source": [
    "`import numpy as np\n",
    "from sklearn.model_selection import train_test_split\n",
    "X = np.arange(10).reshape((5, 2))\n",
    "y = range(5)`\n",
    "\n",
    "` X_train, X_test, y_train, y_test = train_test_split(X, y, \n",
    "                                                     test_size=0.3, \n",
    "                                                     random_state=42)`\n",
    "                                                     \n",
    "`from sklearn.metrics import mean_squared_error\n",
    "from sklearn.model_selection import cross_val_score`\n",
    "\n",
    "`select_85 = RFE(linreg, n_features_to_select = 85)\n",
    "select_85 = select_n.fit(X, np.ravel(y))\n",
    "selected_columns = X.columns[select_n.support_]`\n",
    "\n",
    "`cv_10_results = cross_val_score(linreg, X[selected_columns], y, cv=10, scoring=\"neg_mean_squared_error\")\n",
    "cv_10_results`"
   ]
  }
 ],
 "metadata": {
  "kernelspec": {
   "display_name": "learn-env",
   "language": "python",
   "name": "learn-env"
  },
  "language_info": {
   "codemirror_mode": {
    "name": "ipython",
    "version": 3
   },
   "file_extension": ".py",
   "mimetype": "text/x-python",
   "name": "python",
   "nbconvert_exporter": "python",
   "pygments_lexer": "ipython3",
   "version": "3.7.3"
  },
  "varInspector": {
   "cols": {
    "lenName": 16,
    "lenType": 16,
    "lenVar": 40
   },
   "kernels_config": {
    "python": {
     "delete_cmd_postfix": "",
     "delete_cmd_prefix": "del ",
     "library": "var_list.py",
     "varRefreshCmd": "print(var_dic_list())"
    },
    "r": {
     "delete_cmd_postfix": ") ",
     "delete_cmd_prefix": "rm(",
     "library": "var_list.r",
     "varRefreshCmd": "cat(var_dic_list()) "
    }
   },
   "types_to_exclude": [
    "module",
    "function",
    "builtin_function_or_method",
    "instance",
    "_Feature"
   ],
   "window_display": false
  }
 },
 "nbformat": 4,
 "nbformat_minor": 2
}
