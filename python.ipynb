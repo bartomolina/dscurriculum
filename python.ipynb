{
 "cells": [
  {
   "cell_type": "markdown",
   "metadata": {},
   "source": [
    "# Python"
   ]
  },
  {
   "cell_type": "code",
   "execution_count": 1,
   "metadata": {},
   "outputs": [
    {
     "name": "stdout",
     "output_type": "stream",
     "text": [
      "Give me your name: BArto\n",
      "Your name is BArto\n",
      "15\n",
      "i: 0, Row: 0 Column: 0\n",
      "i: 1, Row: 0 Column: 1\n",
      "i: 2, Row: 0 Column: 2\n",
      "i: 3, Row: 0 Column: 3\n",
      "i: 4, Row: 1 Column: 0\n",
      "i: 5, Row: 1 Column: 1\n",
      "i: 6, Row: 1 Column: 2\n",
      "i: 7, Row: 1 Column: 3\n",
      "i: 8, Row: 2 Column: 0\n",
      "i: 9, Row: 2 Column: 1\n",
      "i: 10, Row: 2 Column: 2\n",
      "i: 11, Row: 2 Column: 3\n"
     ]
    }
   ],
   "source": [
    "import pandas as pd\n",
    "import numpy as np\n",
    "\n",
    "# ?/help(print) docstring\n",
    "# ?print\n",
    "len\n",
    "type\n",
    "None # null\n",
    "set([1,1,2,3]) # unique values\n",
    "range(0, 100, 2) # range of numbers with step\n",
    "\n",
    "# dictionaries\n",
    "x = {'make': 'mercedes', 'model': 'cla'} # dictionary\n",
    "x.items()\n",
    "del x['make']\n",
    "list(x.keys())\n",
    "list(x.values())\n",
    "sorted(['Bart Simpson', 'Ned Flanders', 'Montgomery Burns'], key = lambda x: x.split()[1])\n",
    "\n",
    "# list / dict comprehension\n",
    "squares = [x**2 for x in range(10)]\n",
    "dictionary = {1: ['Tod', 'Ned'], 2: ['Lisa', 'Bart']}\n",
    "{ key: sorted(value) for key, value in dictionary.items() }\n",
    "\n",
    "# strings\n",
    "\" text   \".strip()\n",
    "\"text\".find('t')\n",
    "'t' in \"text\"\n",
    "\n",
    "# operators\n",
    "0 or [] # Compares two elements. The first truthy element is returned. If both elements are falsy, the second element is returned\n",
    "0 and [] # Compares two elements. If both elements are truthy, the second element is returned If there is a falsy value, the first falsy value is returned\n",
    "\n",
    "# ternary operator\n",
    "x = 12\n",
    "y = 20\n",
    "var = x if x > y else y\n",
    "\n",
    "# user input / output\n",
    "name = input(\"Give me your name: \")\n",
    "print(\"Your name is \" + name)\n",
    "\n",
    "# math\n",
    "2 ** 3\n",
    "pow(2, 3)\n",
    "3 // 2\n",
    "import math\n",
    "math.sqrt(9)\n",
    "9 ** 0.5\n",
    "\n",
    "# lambda functions\n",
    "x = lambda a : a + 10\n",
    "print(x(5))\n",
    "\n",
    "# using modulus and floor division operators (i.e. to generate rows / columns for subplots)\n",
    "for i in range(12):\n",
    "    print('i: {}, Row: {} Column: {}'.format(i, i // 4, i % 4))\n",
    "    \n",
    "# random\n",
    "rel_prob = [.53, .22, .19]\n",
    "prob = [i/sum(rel_prob) for i in rel_prob]\n",
    "def impute_category(value):\n",
    "    if value == '?':\n",
    "        return np.random.choice(['3','1','2'], p=prob)\n",
    "    else:\n",
    "        return value\n",
    "pd.Series([3, 2, 1, 1, 1, 3, 2, '?', 3, 2, '?']).map(lambda x: impute_category(x))\n",
    "\n",
    "pass"
   ]
  },
  {
   "cell_type": "code",
   "execution_count": null,
   "metadata": {},
   "outputs": [],
   "source": []
  },
  {
   "cell_type": "markdown",
   "metadata": {},
   "source": [
    "## OOP"
   ]
  },
  {
   "cell_type": "code",
   "execution_count": 18,
   "metadata": {},
   "outputs": [
    {
     "name": "stdout",
     "output_type": "stream",
     "text": [
      "The autoreload extension is already loaded. To reload it, use:\n",
      "  %reload_ext autoreload\n",
      "1. --- canine --- This is the dog **class** directly accessing its class variable\n",
      "2. --- I'm a dog INSTANCE --- This is an **instance object** of the dog class accessing its own instance variable\n",
      "3. --- canine --- This is the dog class invoking the species *class method* to access its class variable\n",
      "4. --- canine --- This is an **instance object** of the dog class invoking the *class method*\n",
      "I'm a dog INSTANCE\n"
     ]
    }
   ],
   "source": [
    "# autoreload modules\n",
    "%load_ext autoreload\n",
    "%autoreload 2\n",
    "\n",
    "class Dog:\n",
    "    \n",
    "    _species = \"canine\"\n",
    "    \n",
    "    def __init__(self):\n",
    "        self._species = \"I'm a dog INSTANCE\"\n",
    "    \n",
    "    @classmethod\n",
    "    def species(cls):\n",
    "        return cls._species\n",
    "    \n",
    "class WildDog(Dog):\n",
    "    \n",
    "    def __init__(self):\n",
    "        super().__init__()\n",
    "        self._type = \"I'm a wild dog\"\n",
    "    \n",
    "new_dog = Dog()\n",
    "new_wilddog = WildDog()\n",
    "\n",
    "print(\"1. ---\", Dog._species, \"--- This is the dog **class** directly accessing its class variable\")\n",
    "print(\"2. ---\", new_dog._species, \"--- This is an **instance object** of the dog class accessing its own instance variable\")\n",
    "print(\"3. ---\", Dog.species(), \"--- This is the dog class invoking the species *class method* to access its class variable\")\n",
    "print(\"4. ---\", new_dog.species(), \"--- This is an **instance object** of the dog class invoking the *class method*\")\n",
    "print(new_wilddog._species)"
   ]
  }
 ],
 "metadata": {
  "kernelspec": {
   "display_name": "learn-env",
   "language": "python",
   "name": "learn-env"
  },
  "language_info": {
   "codemirror_mode": {
    "name": "ipython",
    "version": 3
   },
   "file_extension": ".py",
   "mimetype": "text/x-python",
   "name": "python",
   "nbconvert_exporter": "python",
   "pygments_lexer": "ipython3",
   "version": "3.7.3"
  }
 },
 "nbformat": 4,
 "nbformat_minor": 2
}
