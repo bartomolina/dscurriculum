{
 "cells": [
  {
   "cell_type": "code",
   "execution_count": null,
   "metadata": {},
   "outputs": [],
   "source": [
    "import pandas as pd\n",
    "import numpy as np\n",
    "from tqdm.auto import tqdm"
   ]
  },
  {
   "cell_type": "markdown",
   "metadata": {},
   "source": [
    "# Python"
   ]
  },
  {
   "cell_type": "markdown",
   "metadata": {
    "heading_collapsed": true
   },
   "source": [
    "## General"
   ]
  },
  {
   "cell_type": "code",
   "execution_count": null,
   "metadata": {
    "code_folding": [],
    "hidden": true
   },
   "outputs": [],
   "source": [
    "# ?/help(print) docstring\n",
    "# ?print\n",
    "len\n",
    "type\n",
    "None # null\n",
    "set([1,1,2,3]) # unique values\n",
    "range(0, 100, 2) # range of numbers with step\n",
    "\n",
    "# dictionaries\n",
    "x = {'make': 'mercedes', 'model': 'cla'} # dictionary\n",
    "x.items()\n",
    "del x['make']\n",
    "list(x.keys())\n",
    "list(x.values())\n",
    "sorted(['Bart Simpson', 'Ned Flanders', 'Montgomery Burns'], key = lambda x: x.split()[1])\n",
    "\n",
    "# list / dict comprehension\n",
    "squares = [x**2 for x in range(10)]\n",
    "dictionary = {1: ['Tod', 'Ned'], 2: ['Lisa', 'Bart']}\n",
    "{ key: sorted(value) for key, value in dictionary.items() }\n",
    "\n",
    "# strings\n",
    "\" text   \".strip()\n",
    "\"text\".find('t')\n",
    "'t' in \"text\"\n",
    "\n",
    "# operators\n",
    "0 or [] # Compares two elements. The first truthy element is returned. If both elements are falsy, the second element is returned\n",
    "0 and [] # Compares two elements. If both elements are truthy, the second element is returned If there is a falsy value, the first falsy value is returned\n",
    "\n",
    "# ternary operator\n",
    "x = 12\n",
    "y = 20\n",
    "var = x if x > y else y\n",
    "\n",
    "# user input / output\n",
    "#name = input(\"Give me your name: \")\n",
    "#print(\"Your name is \" + name)\n",
    "\n",
    "# math\n",
    "2 ** 3\n",
    "pow(2, 3)\n",
    "3 // 2\n",
    "import math\n",
    "math.sqrt(9)\n",
    "9 ** 0.5\n",
    "\n",
    "# lambda functions\n",
    "x = lambda a : a + 10\n",
    "print(x(5))\n",
    "\n",
    "# using modulus and floor division operators (i.e. to generate rows / columns for subplots)\n",
    "for i in range(12):\n",
    "    print('i: {}, Row: {} Column: {}'.format(i, i // 4, i % 4))\n",
    "    \n",
    "# random\n",
    "rel_prob = [.53, .22, .19]\n",
    "prob = [i/sum(rel_prob) for i in rel_prob]\n",
    "def impute_category(value):\n",
    "    if value == '?':\n",
    "        return np.random.choice(['3','1','2'], p=prob)\n",
    "    else:\n",
    "        return value\n",
    "pd.Series([3, 2, 1, 1, 1, 3, 2, '?', 3, 2, '?']).map(lambda x: impute_category(x))\n",
    "# random number\n",
    "np.random.randint(1,7)\n",
    "# random normal\n",
    "mu, sigma = 0.5, 0.1\n",
    "N = 1000\n",
    "s = np.random.normal(mu, sigma, N)\n",
    "\n",
    "# progress bar\n",
    "for _ in tqdm(range(1000)):\n",
    "    pass\n",
    "\n",
    "# debug https://twitter.com/radekosmulski/status/945739571735748609\n",
    "# %debug\n",
    "# from IPython.core.debugger import set_trace\n",
    "# set_trace()\n",
    "# ipdb> help\n",
    "# ipdb> help up\n",
    "\n",
    "pass"
   ]
  },
  {
   "cell_type": "markdown",
   "metadata": {
    "heading_collapsed": true
   },
   "source": [
    "## OOP"
   ]
  },
  {
   "cell_type": "code",
   "execution_count": 1,
   "metadata": {
    "code_folding": [],
    "hidden": true
   },
   "outputs": [
    {
     "name": "stdout",
     "output_type": "stream",
     "text": [
      "{'_species': \"I'm a dog INSTANCE\"}\n",
      "1. --- canine --- This is the dog **class** directly accessing its class variable\n",
      "2. --- I'm a dog INSTANCE --- This is an **instance object** of the dog class accessing its own instance variable\n",
      "3. --- canine --- This is the dog class invoking the species *class method* to access its class variable\n",
      "4. --- canine --- This is an **instance object** of the dog class invoking the *class method*\n",
      "I'm a dog INSTANCE\n"
     ]
    }
   ],
   "source": [
    "# autoreload modules\n",
    "%load_ext autoreload\n",
    "%autoreload 2\n",
    "\n",
    "class Dog:\n",
    "    \n",
    "    _species = \"canine\"\n",
    "    \n",
    "    def __init__(self):\n",
    "        self._species = \"I'm a dog INSTANCE\"\n",
    "    \n",
    "    @classmethod\n",
    "    def species(cls):\n",
    "        return cls._species\n",
    "    \n",
    "class WildDog(Dog):\n",
    "    \n",
    "    def __init__(self):\n",
    "        super().__init__()\n",
    "        self._type = \"I'm a wild dog\"\n",
    "    \n",
    "new_dog = Dog()\n",
    "new_wilddog = WildDog()\n",
    "print(vars(new_dog))\n",
    "\n",
    "print(\"1. ---\", Dog._species, \"--- This is the dog **class** directly accessing its class variable\")\n",
    "print(\"2. ---\", new_dog._species, \"--- This is an **instance object** of the dog class accessing its own instance variable\")\n",
    "print(\"3. ---\", Dog.species(), \"--- This is the dog class invoking the species *class method* to access its class variable\")\n",
    "print(\"4. ---\", new_dog.species(), \"--- This is an **instance object** of the dog class invoking the *class method*\")\n",
    "print(new_wilddog._species)"
   ]
  }
 ],
 "metadata": {
  "kernelspec": {
   "display_name": "learn-env",
   "language": "python",
   "name": "learn-env"
  },
  "language_info": {
   "codemirror_mode": {
    "name": "ipython",
    "version": 3
   },
   "file_extension": ".py",
   "mimetype": "text/x-python",
   "name": "python",
   "nbconvert_exporter": "python",
   "pygments_lexer": "ipython3",
   "version": "3.7.3"
  },
  "varInspector": {
   "cols": {
    "lenName": 16,
    "lenType": 16,
    "lenVar": 40
   },
   "kernels_config": {
    "python": {
     "delete_cmd_postfix": "",
     "delete_cmd_prefix": "del ",
     "library": "var_list.py",
     "varRefreshCmd": "print(var_dic_list())"
    },
    "r": {
     "delete_cmd_postfix": ") ",
     "delete_cmd_prefix": "rm(",
     "library": "var_list.r",
     "varRefreshCmd": "cat(var_dic_list()) "
    }
   },
   "oldHeight": 283,
   "position": {
    "height": "421px",
    "left": "1373px",
    "right": "20px",
    "top": "138px",
    "width": "415px"
   },
   "types_to_exclude": [
    "module",
    "function",
    "builtin_function_or_method",
    "instance",
    "_Feature"
   ],
   "varInspector_section_display": "block",
   "window_display": false
  }
 },
 "nbformat": 4,
 "nbformat_minor": 2
}
