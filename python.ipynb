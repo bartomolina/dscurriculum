{
 "cells": [
  {
   "cell_type": "markdown",
   "metadata": {},
   "source": [
    "# Python"
   ]
  },
  {
   "cell_type": "code",
   "execution_count": 6,
   "metadata": {},
   "outputs": [],
   "source": [
    "# ?/help(print) docstring\n",
    "# ?print\n",
    "len\n",
    "type\n",
    "None # null\n",
    "set([1,1,2,3]) # unique values\n",
    "range(0, 100, 2) # range of numbers with step\n",
    "\n",
    "# dictionaries\n",
    "x = {'make': 'mercedes', 'model': 'cla'} # dictionary\n",
    "x.items()\n",
    "del x['make']\n",
    "list(x.keys())\n",
    "list(x.values())\n",
    "\n",
    "# operators\n",
    "0 or [] # Compares two elements. The first truthy element is returned. If both elements are falsy, the second element is returned\n",
    "0 and [] # Compares two elements. If both elements are truthy, the second element is returned If there is a falsy value, the first falsy value is returned\n",
    "\n",
    "# ternary operator\n",
    "x = 12\n",
    "y = 20\n",
    "var = x if x > y else y\n",
    "\n",
    "# user input / output\n",
    "name = input(\"Give me your name: \")\n",
    "print(\"Your name is \" + name)\n",
    "\n",
    "pass"
   ]
  },
  {
   "cell_type": "code",
   "execution_count": null,
   "metadata": {},
   "outputs": [],
   "source": []
  }
 ],
 "metadata": {
  "kernelspec": {
   "display_name": "learn-env",
   "language": "python",
   "name": "learn-env"
  },
  "language_info": {
   "codemirror_mode": {
    "name": "ipython",
    "version": 3
   },
   "file_extension": ".py",
   "mimetype": "text/x-python",
   "name": "python",
   "nbconvert_exporter": "python",
   "pygments_lexer": "ipython3",
   "version": "3.7.3"
  }
 },
 "nbformat": 4,
 "nbformat_minor": 2
}
