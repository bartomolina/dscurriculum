{
 "cells": [
  {
   "cell_type": "markdown",
   "metadata": {},
   "source": [
    "# SQLite Datatypes\n",
    "- TEXT\n",
    "- INTEGER\n",
    "- REAL (double precision / 15 chars long)\n",
    "- BLOB"
   ]
  },
  {
   "cell_type": "markdown",
   "metadata": {},
   "source": [
    "# DB Connection / Run SQL"
   ]
  },
  {
   "cell_type": "code",
   "execution_count": 18,
   "metadata": {},
   "outputs": [
    {
     "data": {
      "text/plain": [
       "[('table',\n",
       "  'cats',\n",
       "  'cats',\n",
       "  2,\n",
       "  'CREATE TABLE cats (\\n        id INTEGER PRIMARY KEY,\\n        name TEXT,\\n        age INTEGER\\n    , breed TEXT, owner_id INTEGER)')]"
      ]
     },
     "metadata": {},
     "output_type": "display_data"
    },
    {
     "data": {
      "text/plain": [
       "[('Maru',), (\"Lil\\\\' Bub\",), ('Hana',)]"
      ]
     },
     "metadata": {},
     "output_type": "display_data"
    },
    {
     "data": {
      "text/html": [
       "<div>\n",
       "<style scoped>\n",
       "    .dataframe tbody tr th:only-of-type {\n",
       "        vertical-align: middle;\n",
       "    }\n",
       "\n",
       "    .dataframe tbody tr th {\n",
       "        vertical-align: top;\n",
       "    }\n",
       "\n",
       "    .dataframe thead th {\n",
       "        text-align: right;\n",
       "    }\n",
       "</style>\n",
       "<table border=\"1\" class=\"dataframe\">\n",
       "  <thead>\n",
       "    <tr style=\"text-align: right;\">\n",
       "      <th></th>\n",
       "      <th>id</th>\n",
       "      <th>name</th>\n",
       "      <th>age</th>\n",
       "      <th>breed</th>\n",
       "      <th>owner_id</th>\n",
       "    </tr>\n",
       "  </thead>\n",
       "  <tbody>\n",
       "    <tr>\n",
       "      <th>0</th>\n",
       "      <td>1</td>\n",
       "      <td>Maru</td>\n",
       "      <td>3</td>\n",
       "      <td>Scottish Fold</td>\n",
       "      <td>1</td>\n",
       "    </tr>\n",
       "    <tr>\n",
       "      <th>1</th>\n",
       "      <td>3</td>\n",
       "      <td>Lil\\' Bub</td>\n",
       "      <td>5</td>\n",
       "      <td>American Shorthair</td>\n",
       "      <td>2</td>\n",
       "    </tr>\n",
       "    <tr>\n",
       "      <th>2</th>\n",
       "      <td>4</td>\n",
       "      <td>Hana</td>\n",
       "      <td>1</td>\n",
       "      <td>Tabby</td>\n",
       "      <td>2</td>\n",
       "    </tr>\n",
       "  </tbody>\n",
       "</table>\n",
       "</div>"
      ],
      "text/plain": [
       "   id       name  age               breed  owner_id\n",
       "0   1       Maru    3       Scottish Fold         1\n",
       "1   3  Lil\\' Bub    5  American Shorthair         2\n",
       "2   4       Hana    1               Tabby         2"
      ]
     },
     "metadata": {},
     "output_type": "display_data"
    },
    {
     "data": {
      "text/plain": [
       "[('American Shorthair', 2, 1),\n",
       " ('Scottish Fold', 1, 1),\n",
       " ('Tabby', None, 1),\n",
       " ('Tabby', 2, 1)]"
      ]
     },
     "metadata": {},
     "output_type": "display_data"
    }
   ],
   "source": [
    "import sqlite3\n",
    "import pandas as pd\n",
    "connection = sqlite3.connect('pet_database.db')\n",
    "cursor = connection.cursor()\n",
    "#cursor.execute('''\n",
    "#    CREATE TABLE cats (\n",
    "#        id INTEGER PRIMARY KEY,\n",
    "#        name TEXT,\n",
    "#        age INTEGER\n",
    "#    );\n",
    "#    ''')\n",
    "display(cursor.execute('''SELECT * FROM sqlite_master WHERE type='table';''').fetchall())\n",
    "# cursor.execute('''ALTER TABLE cats ADD COLUMN breed TEXT;''')\n",
    "# cursor.execute('''ALTER TABLE cats ADD COLUMN owner_id INTEGER;''')\n",
    "# cursor.execute('''DROP TABLE cats;'''\n",
    "\n",
    "cursor.execute('''DELETE FROM cats;''')\n",
    "\n",
    "# CRUD\n",
    "cursor.execute('''INSERT INTO cats (name, age, breed, owner_id) VALUES ('Maru', 3, 'Scottish Fold', 1);''')\n",
    "cursor.execute('''INSERT INTO cats (name, age, breed, owner_id) VALUES (NULL, NULL, \"Tabby\", NULL);''')\n",
    "\n",
    "file = open('01_insert_cats_into_cats_table.sql', 'r')\n",
    "sql = file.read()\n",
    "cursor.executescript(sql)\n",
    "file.close()\n",
    "\n",
    "cursor.execute('''UPDATE cats SET name = \"Hana\" WHERE name = \"Hannah\";''')\n",
    "\n",
    "display(cursor.execute('''SELECT name FROM cats WHERE age IS NOT NULL;''').fetchall())\n",
    "\n",
    "# display in dataframe\n",
    "def sql_select_to_df(SQL_COMMAND, cur=cursor):\n",
    "    results = cur.execute(SQL_COMMAND).fetchall() # .fetchone()\n",
    "    df = pd.DataFrame(results)\n",
    "    df.columns = [i[0] for i in cur.description]\n",
    "    return df\n",
    "# df = sql_select_to_df('''SELECT * FROM cats WHERE name NOT IN (\"Maru\", \"Hana\") LIMIT 1;''')\n",
    "df = sql_select_to_df('''SELECT * FROM cats WHERE age BETWEEN 1 AND 5;''')\n",
    "display(df.head())\n",
    "\n",
    "# COUNT, GROUP BY\n",
    "display(cursor.execute('''SELECT cats.breed, owner_id, COUNT(breed) FROM cats GROUP BY breed, owner_id;''').fetchall())\n",
    "\n",
    "connection.close()"
   ]
  }
 ],
 "metadata": {
  "kernelspec": {
   "display_name": "learn-env",
   "language": "python",
   "name": "learn-env"
  },
  "language_info": {
   "codemirror_mode": {
    "name": "ipython",
    "version": 3
   },
   "file_extension": ".py",
   "mimetype": "text/x-python",
   "name": "python",
   "nbconvert_exporter": "python",
   "pygments_lexer": "ipython3",
   "version": "3.6.6"
  }
 },
 "nbformat": 4,
 "nbformat_minor": 2
}
