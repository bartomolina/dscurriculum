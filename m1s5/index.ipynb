{
 "cells": [
  {
   "cell_type": "markdown",
   "metadata": {},
   "source": [
    "# SQLite Datatypes\n",
    "- TEXT\n",
    "- INTEGER\n",
    "- REAL (double precision / 15 chars long)\n",
    "- BLOB"
   ]
  },
  {
   "cell_type": "markdown",
   "metadata": {},
   "source": [
    "# DB Connection / Run SQL"
   ]
  },
  {
   "cell_type": "code",
   "execution_count": 12,
   "metadata": {},
   "outputs": [
    {
     "data": {
      "text/plain": [
       "[('table',\n",
       "  'cats',\n",
       "  'cats',\n",
       "  2,\n",
       "  'CREATE TABLE cats (\\n        id INTEGER PRIMARY KEY,\\n        name TEXT,\\n        age INTEGER\\n    , breed TEXT)')]"
      ]
     },
     "metadata": {},
     "output_type": "display_data"
    },
    {
     "data": {
      "text/plain": [
       "[('Maru',), (\"Lil\\\\' Bub\",), ('Hana',)]"
      ]
     },
     "metadata": {},
     "output_type": "display_data"
    },
    {
     "data": {
      "text/html": [
       "<div>\n",
       "<style scoped>\n",
       "    .dataframe tbody tr th:only-of-type {\n",
       "        vertical-align: middle;\n",
       "    }\n",
       "\n",
       "    .dataframe tbody tr th {\n",
       "        vertical-align: top;\n",
       "    }\n",
       "\n",
       "    .dataframe thead th {\n",
       "        text-align: right;\n",
       "    }\n",
       "</style>\n",
       "<table border=\"1\" class=\"dataframe\">\n",
       "  <thead>\n",
       "    <tr style=\"text-align: right;\">\n",
       "      <th></th>\n",
       "      <th>id</th>\n",
       "      <th>name</th>\n",
       "      <th>age</th>\n",
       "      <th>breed</th>\n",
       "    </tr>\n",
       "  </thead>\n",
       "  <tbody>\n",
       "    <tr>\n",
       "      <th>0</th>\n",
       "      <td>2</td>\n",
       "      <td>Lil\\' Bub</td>\n",
       "      <td>5</td>\n",
       "      <td>American Shorthair</td>\n",
       "    </tr>\n",
       "  </tbody>\n",
       "</table>\n",
       "</div>"
      ],
      "text/plain": [
       "   id       name  age               breed\n",
       "0   2  Lil\\' Bub    5  American Shorthair"
      ]
     },
     "metadata": {},
     "output_type": "display_data"
    }
   ],
   "source": [
    "import sqlite3\n",
    "import pandas as pd\n",
    "connection = sqlite3.connect('pet_database.db')\n",
    "cursor = connection.cursor()\n",
    "#cursor.execute('''\n",
    "#    CREATE TABLE cats (\n",
    "#        id INTEGER PRIMARY KEY,\n",
    "#        name TEXT,\n",
    "#        age INTEGER\n",
    "#    );\n",
    "#    ''')\n",
    "display(cursor.execute('''SELECT * FROM sqlite_master WHERE type='table';''').fetchall())\n",
    "#cursor.execute('''ALTER TABLE cats ADD COLUMN breed TEXT;''')\n",
    "# cursor.execute('''DROP TABLE cats;'''\n",
    "\n",
    "cursor.execute('''DELETE FROM cats;''')\n",
    "\n",
    "# CRUD\n",
    "cursor.execute('''INSERT INTO cats (name, age, breed) VALUES ('Maru', 3, 'Scottish Fold');''')\n",
    "\n",
    "file = open('01_insert_cats_into_cats_table.sql', 'r')\n",
    "sql = file.read()\n",
    "cursor.executescript(sql)\n",
    "file.close()\n",
    "\n",
    "cursor.execute('''UPDATE cats SET name = \"Hana\" WHERE name = \"Hannah\";''')\n",
    "\n",
    "display(cursor.execute('''SELECT name FROM cats;''').fetchall())\n",
    "\n",
    "# display in dataframe\n",
    "def sql_select_to_df(SQL_COMMAND, cur=cursor):\n",
    "    results = cur.execute(SQL_COMMAND).fetchall()\n",
    "    df = pd.DataFrame(results)\n",
    "    df.columns = [i[0] for i in cur.description]\n",
    "    return df\n",
    "df = sql_select_to_df('''SELECT * FROM cats WHERE name NOT IN (\"Maru\", \"Hana\");''')\n",
    "display(df.head())\n",
    "\n",
    "connection.close()"
   ]
  }
 ],
 "metadata": {
  "kernelspec": {
   "display_name": "learn-env",
   "language": "python",
   "name": "learn-env"
  },
  "language_info": {
   "codemirror_mode": {
    "name": "ipython",
    "version": 3
   },
   "file_extension": ".py",
   "mimetype": "text/x-python",
   "name": "python",
   "nbconvert_exporter": "python",
   "pygments_lexer": "ipython3",
   "version": "3.7.3"
  }
 },
 "nbformat": 4,
 "nbformat_minor": 2
}
