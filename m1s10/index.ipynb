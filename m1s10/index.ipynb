{
 "cells": [
  {
   "cell_type": "code",
   "execution_count": 5,
   "metadata": {},
   "outputs": [],
   "source": [
    "import pandas as pd\n",
    "import statsmodels.api as sm\n",
    "from statsmodels.formula.api import ols\n",
    "import matplotlib.pyplot as plt\n",
    "plt.style.use('seaborn')"
   ]
  },
  {
   "cell_type": "markdown",
   "metadata": {},
   "source": [
    "# Variance: Covariance and correlation"
   ]
  },
  {
   "cell_type": "markdown",
   "metadata": {},
   "source": [
    "**Variance**\n",
    "$$\\sigma^2 = \\dfrac{1}{n}\\displaystyle\\sum_{i=1}^{n}(x_i-\\mu)^2$$\n",
    "\n",
    "**Covariance** ($\\sigma_{xy}$)  \n",
    "1. Mean normalization\n",
    "2. Dot product\n",
    "$$\\sigma_{XY} = \\dfrac{1}{n}\\displaystyle\\sum_{i=1}^{n}(x_i -\\mu_x)(y_i - \\mu_y)$$\n",
    "\n",
    "\n",
    "- Positive: **positively related**\n",
    "- Negative: **inversely related**\n",
    "- Equal or close to 0: **no linear relationship**\n",
    "\n",
    "**Correlation** (standardizing covariance)\n",
    "\n",
    "- Pearson's correlation coefficient $r$ (linear correlation coefficient) (between -1 and 1)\n",
    "$$ r = \\frac{\\sum_{i=1}^{n}(x_i -\\mu_x)(y_i - \\mu_y)} {\\sqrt{\\sum_{i=1}^{n}(x_i - \\mu_x)^2 \\sum_{i=1}^{n}(y_i-\\mu_y)^2}}$$"
   ]
  },
  {
   "cell_type": "markdown",
   "metadata": {},
   "source": [
    "# Statistical learning theory"
   ]
  },
  {
   "cell_type": "markdown",
   "metadata": {},
   "source": [
    "**Types of data**  \n",
    "- Data that can be controlled directly (**independent variables** / **features**): time, age\n",
    "- Data that cannot be controlled directly (**dependent variables**): weight over age\n",
    "- **controlled variable**\n",
    "\n",
    "A **model** defines the relationship between a dependent and an independent variable\n",
    "\n",
    "**model parameters**: co-efficients of the model equation for estimating the output\n",
    "\n",
    "**Loss function**: evaluates how well the model represents the relationship between variables (low if well modeled)"
   ]
  },
  {
   "cell_type": "markdown",
   "metadata": {},
   "source": [
    "# Linear regression"
   ]
  },
  {
   "cell_type": "markdown",
   "metadata": {},
   "source": [
    "- Simple linear regression\n",
    "- Multiple linear regression\n",
    "\n",
    "Components\n",
    "- dependent variable\n",
    "- independent variable\n",
    "- slope\n",
    "- intercept\n",
    "\n",
    "Calculating regression (**least squares method**)\n",
    "- The mean of the X $(\\bar{X})$\n",
    "- The mean of the Y $(\\bar{Y})$\n",
    "- The standard deviation of the X values $(S_X)$\n",
    "- The standard deviation of the y values $(S_Y)$\n",
    "- The correlation between X and Y ( often denoted by the Greek letter \"Rho\" or $\\rho$ - Pearson Correlation)\n",
    "\n",
    "**Slope** (m):\n",
    "$$\\hat m = \\rho \\frac{S_Y}{S_X}$$\n",
    "\n",
    "**Y-intercept** (b):\n",
    "$(\\hat y = \\hat m x+ \\hat c)$ -> $$\\bar{Y} = \\hat c + \\hat m \\bar{X}$$\n",
    "$$ \\hat c = \\bar{Y} - \\hat m\\bar{X}$$"
   ]
  },
  {
   "cell_type": "markdown",
   "metadata": {},
   "source": [
    "## Coefficient of Determination (R-Squared $R^2$)"
   ]
  },
  {
   "cell_type": "markdown",
   "metadata": {},
   "source": [
    "Compares regression line with baseline (worst) model\n",
    "\n",
    "An obtained R-squared value of say 0.85 can be put into a statement as\n",
    "> ***85% of the variations in dependent variable $y$ are explained by the independent variable in our model.***"
   ]
  },
  {
   "cell_type": "markdown",
   "metadata": {},
   "source": [
    "## Regression asumptions"
   ]
  },
  {
   "cell_type": "markdown",
   "metadata": {},
   "source": [
    "- Linearity (scatter plots). Check for outliers\n",
    "- Normality: **model residuals** should follow a normal distribution (histograms or Q-Q plots)\n",
    "- Homoscedasticity <> Heteroscedasticity: dependent variable variability (scatter)"
   ]
  },
  {
   "cell_type": "markdown",
   "metadata": {},
   "source": [
    "## OLS (Ordinary Least Squared) in statsmodels"
   ]
  },
  {
   "cell_type": "code",
   "execution_count": 19,
   "metadata": {},
   "outputs": [],
   "source": [
    "df = pd.read_csv('../Data/heightWeight.csv')\n",
    "f = 'weight~height'\n",
    "model = ols(formula=f, data=df).fit()"
   ]
  }
 ],
 "metadata": {
  "kernelspec": {
   "display_name": "learn-env",
   "language": "python",
   "name": "learn-env"
  },
  "language_info": {
   "codemirror_mode": {
    "name": "ipython",
    "version": 3
   },
   "file_extension": ".py",
   "mimetype": "text/x-python",
   "name": "python",
   "nbconvert_exporter": "python",
   "pygments_lexer": "ipython3",
   "version": "3.7.3"
  },
  "varInspector": {
   "cols": {
    "lenName": 16,
    "lenType": 16,
    "lenVar": 40
   },
   "kernels_config": {
    "python": {
     "delete_cmd_postfix": "",
     "delete_cmd_prefix": "del ",
     "library": "var_list.py",
     "varRefreshCmd": "print(var_dic_list())"
    },
    "r": {
     "delete_cmd_postfix": ") ",
     "delete_cmd_prefix": "rm(",
     "library": "var_list.r",
     "varRefreshCmd": "cat(var_dic_list()) "
    }
   },
   "types_to_exclude": [
    "module",
    "function",
    "builtin_function_or_method",
    "instance",
    "_Feature"
   ],
   "window_display": false
  }
 },
 "nbformat": 4,
 "nbformat_minor": 2
}
